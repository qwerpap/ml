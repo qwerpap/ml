{
  "cells": [
    {
      "cell_type": "markdown",
      "metadata": {
        "id": "Qs24hZ3itUnc"
      },
      "source": [
        "# Домашняя работа. Деревья решений.\n",
        "\n",
        "## Полезная литература\n",
        "\n",
        "- [Habrahabr: ODS деревья решений](https://habrahabr.ru/company/ods/blog/322534/#derevo-resheniy)\n",
        "- [ВМК МГУ семинары по решающим деревьям](99-extra__ml-course-msu-Sem04_trees.pdf)\n",
        "- [Sklearn Decision Trees](http://scikit-learn.org/stable/modules/tree.html)"
      ]
    },
    {
      "cell_type": "markdown",
      "metadata": {
        "id": "zBwTe_twtUnf"
      },
      "source": [
        "## 1. Сравнение моделей деревьев\n",
        "\n",
        "В этом блоке вы сравните разные конфигурации композиций деревьев:\n",
        "- DecisionTree\n",
        "- Bagging\n",
        "- Bagging с другими настройками подбора признаков для разбиения\n",
        "- RandomForest\n",
        "\n",
        "Будем использовать [датасет с винишком](https://archive.ics.uci.edu/ml/datasets/wine+quality) - это задача то ли классификации то ли регресси - нужно предсказывать качество вина. Будем думать что это классификация.\n",
        "\n",
        "![](https://upload.wikimedia.org/wikipedia/en/thumb/7/7c/Lulz_Security.svg/300px-Lulz_Security.svg.png)"
      ]
    },
    {
      "cell_type": "markdown",
      "metadata": {
        "id": "2uZ6O0PYtUnf"
      },
      "source": [
        "### 1.1 Чтение данных (1 балла)\n",
        "\n",
        "Данные лежат как обычно в `'./data/winequality-red.csv.gz'`.\n",
        "\n",
        "- Прочитайте их с помощью pandas\n",
        "- нарисуйте countplot целевого признака `quality`.\n",
        "- Что вы думаете по поводу количества представителей каждого класса.\n",
        "- Разбейте данные на X и y."
      ]
    },
    {
      "cell_type": "code",
      "execution_count": 5,
      "metadata": {
        "colab": {
          "base_uri": "https://localhost:8080/"
        },
        "id": "R7j5tt4LtUng",
        "outputId": "5dafadc8-b84a-4a21-b3f6-64238f359354"
      },
      "outputs": [
        {
          "output_type": "stream",
          "name": "stdout",
          "text": [
            "Drive already mounted at /content/drive; to attempt to forcibly remount, call drive.mount(\"/content/drive\", force_remount=True).\n",
            "  fixed acidity;\"volatile acidity\";\"citric acid\";\"residual sugar\";\"chlorides\";\"free sulfur dioxide\";\"total sulfur dioxide\";\"density\";\"pH\";\"sulphates\";\"alcohol\";\"quality\"\n",
            "0   7.4;0.7;0;1.9;0.076;11;34;0.9978;3.51;0.56;9.4;5                                                                                                                     \n",
            "1   7.8;0.88;0;2.6;0.098;25;67;0.9968;3.2;0.68;9.8;5                                                                                                                     \n",
            "2  7.8;0.76;0.04;2.3;0.092;15;54;0.997;3.26;0.65;...                                                                                                                     \n",
            "3  11.2;0.28;0.56;1.9;0.075;17;60;0.998;3.16;0.58...                                                                                                                     \n",
            "4   7.4;0.7;0;1.9;0.076;11;34;0.9978;3.51;0.56;9.4;5                                                                                                                     \n"
          ]
        }
      ],
      "source": [
        "import pandas as pd\n",
        "\n",
        "# Подключение Google Диска\n",
        "from google.colab import drive\n",
        "drive.mount('/content/drive')\n",
        "\n",
        "# Загрузка данных\n",
        "url = \"https://drive.google.com/uc?id=1uSSbCdKFDQz8qmlcOKYa_1mYP3u9j67i\"\n",
        "df = pd.read_csv(url)\n",
        "\n",
        "# Вывод первых строк для проверки\n",
        "print(df.head())"
      ]
    },
    {
      "cell_type": "code",
      "execution_count": 9,
      "metadata": {
        "id": "OrAhaxCFtUng",
        "colab": {
          "base_uri": "https://localhost:8080/",
          "height": 1000
        },
        "outputId": "5e121f7b-9c0d-48bf-acf7-9f9f0a5cfb84"
      },
      "outputs": [
        {
          "output_type": "stream",
          "name": "stdout",
          "text": [
            "Drive already mounted at /content/drive; to attempt to forcibly remount, call drive.mount(\"/content/drive\", force_remount=True).\n",
            "Index(['fixed acidity', 'volatile acidity', 'citric acid', 'residual sugar',\n",
            "       'chlorides', 'free sulfur dioxide', 'total sulfur dioxide', 'density',\n",
            "       'pH', 'sulphates', 'alcohol', 'quality'],\n",
            "      dtype='object')\n",
            "   fixed acidity  volatile acidity  citric acid  residual sugar  chlorides  \\\n",
            "0            7.4              0.70         0.00             1.9      0.076   \n",
            "1            7.8              0.88         0.00             2.6      0.098   \n",
            "2            7.8              0.76         0.04             2.3      0.092   \n",
            "3           11.2              0.28         0.56             1.9      0.075   \n",
            "4            7.4              0.70         0.00             1.9      0.076   \n",
            "\n",
            "   free sulfur dioxide  total sulfur dioxide  density    pH  sulphates  \\\n",
            "0                 11.0                  34.0   0.9978  3.51       0.56   \n",
            "1                 25.0                  67.0   0.9968  3.20       0.68   \n",
            "2                 15.0                  54.0   0.9970  3.26       0.65   \n",
            "3                 17.0                  60.0   0.9980  3.16       0.58   \n",
            "4                 11.0                  34.0   0.9978  3.51       0.56   \n",
            "\n",
            "   alcohol  quality  \n",
            "0      9.4        5  \n",
            "1      9.8        5  \n",
            "2      9.8        5  \n",
            "3      9.8        6  \n",
            "4      9.4        5  \n"
          ]
        },
        {
          "output_type": "stream",
          "name": "stderr",
          "text": [
            "<ipython-input-9-f8678bc88223>:21: FutureWarning: \n",
            "\n",
            "Passing `palette` without assigning `hue` is deprecated and will be removed in v0.14.0. Assign the `x` variable to `hue` and set `legend=False` for the same effect.\n",
            "\n",
            "  sns.countplot(x='quality', data=df, palette='coolwarm')\n"
          ]
        },
        {
          "output_type": "display_data",
          "data": {
            "text/plain": [
              "<Figure size 1000x600 with 1 Axes>"
            ],
            "image/png": "[encoded data removed]"
          },
          "metadata": {}
        }
      ],
      "source": [
        "import pandas as pd\n",
        "import matplotlib.pyplot as plt\n",
        "import seaborn as sns\n",
        "\n",
        "# Подключение Google Диска\n",
        "from google.colab import drive\n",
        "drive.mount('/content/drive')\n",
        "\n",
        "# Загрузка данных с указанием разделителя\n",
        "url = \"https://drive.google.com/uc?id=1uSSbCdKFDQz8qmlcOKYa_1mYP3u9j67i\"\n",
        "df = pd.read_csv(url, sep=';')\n",
        "\n",
        "# Проверим наличие столбцов\n",
        "print(df.columns)\n",
        "\n",
        "# Проверим первые несколько строк\n",
        "print(df.head())\n",
        "\n",
        "# Построение countplot для качества вина (quality)\n",
        "plt.figure(figsize=(10, 6))\n",
        "sns.countplot(x='quality', data=df, palette='coolwarm')\n",
        "plt.title('Распределение качества вина')\n",
        "plt.xlabel('Качество вина')\n",
        "plt.ylabel('Количество образцов')\n",
        "plt.show()\n"
      ]
    },
    {
      "cell_type": "code",
      "execution_count": 11,
      "metadata": {
        "id": "VwstZbnitUng",
        "colab": {
          "base_uri": "https://localhost:8080/"
        },
        "outputId": "ceb2e09c-79c6-41b0-db9e-f0c31ca14755"
      },
      "outputs": [
        {
          "output_type": "stream",
          "name": "stdout",
          "text": [
            "Drive already mounted at /content/drive; to attempt to forcibly remount, call drive.mount(\"/content/drive\", force_remount=True).\n",
            "Названия столбцов:\n",
            "Index(['fixed acidity', 'volatile acidity', 'citric acid', 'residual sugar',\n",
            "       'chlorides', 'free sulfur dioxide', 'total sulfur dioxide', 'density',\n",
            "       'pH', 'sulphates', 'alcohol', 'quality'],\n",
            "      dtype='object')\n",
            "\n",
            "Первые несколько строк данных X:\n",
            "   fixed acidity  volatile acidity  citric acid  residual sugar  chlorides  \\\n",
            "0            7.4              0.70         0.00             1.9      0.076   \n",
            "1            7.8              0.88         0.00             2.6      0.098   \n",
            "2            7.8              0.76         0.04             2.3      0.092   \n",
            "3           11.2              0.28         0.56             1.9      0.075   \n",
            "4            7.4              0.70         0.00             1.9      0.076   \n",
            "\n",
            "   free sulfur dioxide  total sulfur dioxide  density    pH  sulphates  \\\n",
            "0                 11.0                  34.0   0.9978  3.51       0.56   \n",
            "1                 25.0                  67.0   0.9968  3.20       0.68   \n",
            "2                 15.0                  54.0   0.9970  3.26       0.65   \n",
            "3                 17.0                  60.0   0.9980  3.16       0.58   \n",
            "4                 11.0                  34.0   0.9978  3.51       0.56   \n",
            "\n",
            "   alcohol  \n",
            "0      9.4  \n",
            "1      9.8  \n",
            "2      9.8  \n",
            "3      9.8  \n",
            "4      9.4  \n",
            "\n",
            "Первые несколько значений целевой переменной y:\n",
            "0    5\n",
            "1    5\n",
            "2    5\n",
            "3    6\n",
            "4    5\n",
            "Name: quality, dtype: int64\n"
          ]
        }
      ],
      "source": [
        "import pandas as pd\n",
        "\n",
        "# Подключение Google Диска\n",
        "from google.colab import drive\n",
        "drive.mount('/content/drive')\n",
        "\n",
        "# Загрузка данных с указанием разделителя\n",
        "url = \"https://drive.google.com/uc?id=1uSSbCdKFDQz8qmlcOKYa_1mYP3u9j67i\"\n",
        "df = pd.read_csv(url, delimiter=';')\n",
        "\n",
        "# Проверка названий столбцов\n",
        "print(\"Названия столбцов:\")\n",
        "print(df.columns)\n",
        "\n",
        "# Разделение на признаки и целевую переменную\n",
        "X = df.drop(columns=['quality'])\n",
        "y = df['quality']\n",
        "\n",
        "# Проверка, что X и y сформированы корректно\n",
        "print(\"\\nПервые несколько строк данных X:\")\n",
        "print(X.head())\n",
        "\n",
        "print(\"\\nПервые несколько значений целевой переменной y:\")\n",
        "print(y.head())\n"
      ]
    },
    {
      "cell_type": "code",
      "execution_count": 15,
      "metadata": {
        "id": "hhNKuCaatUng",
        "colab": {
          "base_uri": "https://localhost:8080/"
        },
        "outputId": "95b2ff05-2e30-487b-ca5d-89a4aeb16341"
      },
      "outputs": [
        {
          "output_type": "stream",
          "name": "stdout",
          "text": [
            "Drive already mounted at /content/drive; to attempt to forcibly remount, call drive.mount(\"/content/drive\", force_remount=True).\n",
            "Распределение классов качества вина:\n",
            "quality\n",
            "3     10\n",
            "4     53\n",
            "5    681\n",
            "6    638\n",
            "7    199\n",
            "8     18\n",
            "Name: count, dtype: int64\n"
          ]
        }
      ],
      "source": [
        "import pandas as pd\n",
        "\n",
        "# Подключение Google Диска\n",
        "from google.colab import drive\n",
        "drive.mount('/content/drive')\n",
        "\n",
        "# Загрузка данных с указанием разделителя\n",
        "url = \"https://drive.google.com/uc?id=1uSSbCdKFDQz8qmlcOKYa_1mYP3u9j67i\"\n",
        "df = pd.read_csv(url, delimiter=';')\n",
        "\n",
        "# Разделение на признаки и целевую переменную\n",
        "X = df.drop(columns=['quality'])\n",
        "y = df['quality']\n",
        "\n",
        "# Подсчет количества представителей каждого класса качества вина\n",
        "# Сортируем по индексу для удобства\n",
        "class_distribution = y.value_counts().sort_index()\n",
        "print(\"Распределение классов качества вина:\")\n",
        "print(class_distribution)\n",
        "\n",
        "\n"
      ]
    },
    {
      "cell_type": "code",
      "execution_count": null,
      "metadata": {
        "id": "UZwdjqDItUnh"
      },
      "outputs": [],
      "source": [
        "В датасете есть классы, которые представлены сильно меньше других. Это создает проблему называемую дисбалансом классов. Дисбаланс классов может негативно повлиять на точность предсказаний модели и её способность правильно классифицировать редкие классы."
      ]
    },
    {
      "cell_type": "code",
      "execution_count": null,
      "metadata": {
        "id": "9_cR9RwutUnh"
      },
      "outputs": [],
      "source": []
    },
    {
      "cell_type": "code",
      "execution_count": null,
      "metadata": {
        "id": "IqxI2uyAtUnh"
      },
      "outputs": [],
      "source": []
    },
    {
      "cell_type": "markdown",
      "metadata": {
        "id": "LcuMUY8ctUnh"
      },
      "source": [
        "### 1.2 Сравнение моделей (4 балла)\n",
        "\n",
        "Задача классификации. Все признаки уже числовые. Значит можно пробовать просто все модели и выбрать лучшую. Так и поступим, сделайте кросс валидацию на 5 фолдах, используя `sklearn.model_selection.KFold` как аргумент у `cross_val_score`. Метрика качества будет `accuracy`.\n",
        "\n",
        "Алгоритмы для тестирования:\n",
        "- KNeighborsClassifier с 10 соседями\n",
        "- KNeighborsClassifier с 10 соседями и масштабированием StandartScaler\n",
        "- RidgeClassifier\n",
        "- DecisionTreeClassifier\n",
        "- BaggingClassifier c 100 деревьев\n",
        "- BaggingClassifier с 100 деревьев и каждое дерево обучается только по половине случайно выбранных признаков (см аргументы)\n",
        "- RandomForestClassifier c 100 деревьев\n",
        "\n",
        "Выведите среднее значение метрики качества для каждого из классификаторов.\n",
        "\n",
        "**hint**: каждый следующий алгоритм, будет показывать качество лучше, чем предыдущий. Если у вас не так - то что-то вы делаете неправильно. Везде зафиксируйте random_state=42."
      ]
    },
    {
      "cell_type": "code",
      "execution_count": 18,
      "metadata": {
        "id": "BtETVBJStUnh",
        "colab": {
          "base_uri": "https://localhost:8080/"
        },
        "outputId": "d7aa4b42-73ef-4552-e9be-256889d3494e"
      },
      "outputs": [
        {
          "output_type": "stream",
          "name": "stdout",
          "text": [
            "Drive already mounted at /content/drive; to attempt to forcibly remount, call drive.mount(\"/content/drive\", force_remount=True).\n",
            "Результаты accuracy на каждом фолде: [0.48125    0.534375   0.5        0.49375    0.55172414]\n",
            "Среднее значение accuracy: 0.5122198275862069\n"
          ]
        }
      ],
      "source": [
        "import pandas as pd\n",
        "from sklearn.model_selection import KFold, cross_val_score\n",
        "from sklearn.neighbors import KNeighborsClassifier\n",
        "\n",
        "# Подключение Google Диска\n",
        "from google.colab import drive\n",
        "drive.mount('/content/drive')\n",
        "\n",
        "# Загрузка данных\n",
        "url = \"https://drive.google.com/uc?id=1uSSbCdKFDQz8qmlcOKYa_1mYP3u9j67i\"\n",
        "df = pd.read_csv(url, sep=';')\n",
        "\n",
        "# Разделение на признаки и целевую переменную\n",
        "X = df.drop(columns=['quality'])\n",
        "y = df['quality']\n",
        "\n",
        "# Инициализация модели KNeighborsClassifier с 10 соседями\n",
        "model = KNeighborsClassifier(n_neighbors=10)\n",
        "\n",
        "# Настройка кросс-валидации на 5 фолдов\n",
        "# 5 фолдов с перемешиванием данных\n",
        "kf = KFold(n_splits=5, shuffle=True, random_state=42)\n",
        "\n",
        "# Выполнение кросс-валидации с метрикой 'accuracy'\n",
        "# Оцениваем модель на каждом фолде\n",
        "scores = cross_val_score(model, X, y, cv=kf, scoring='accuracy')\n",
        "\n",
        "# Вывод результатов\n",
        "print(\"Результаты accuracy на каждом фолде:\", scores)\n",
        "print(\"Среднее значение accuracy:\", scores.mean())"
      ]
    },
    {
      "cell_type": "code",
      "execution_count": 20,
      "metadata": {
        "id": "r6fQl3JVtUnh",
        "colab": {
          "base_uri": "https://localhost:8080/"
        },
        "outputId": "e13c385c-385c-41d1-c5e8-e449e32f3c72"
      },
      "outputs": [
        {
          "output_type": "stream",
          "name": "stdout",
          "text": [
            "Drive already mounted at /content/drive; to attempt to forcibly remount, call drive.mount(\"/content/drive\", force_remount=True).\n",
            "Результаты accuracy на каждом фолде: [0.5875     0.575      0.55625    0.575      0.61442006]\n",
            "Среднее значение accuracy: 0.581634012539185\n"
          ]
        }
      ],
      "source": [
        "import pandas as pd\n",
        "from sklearn.model_selection import KFold, cross_val_score\n",
        "from sklearn.neighbors import KNeighborsClassifier\n",
        "from sklearn.preprocessing import StandardScaler\n",
        "from sklearn.pipeline import make_pipeline\n",
        "\n",
        "# Подключение Google Диска\n",
        "from google.colab import drive\n",
        "drive.mount('/content/drive')\n",
        "\n",
        "# Загрузка данных\n",
        "url = \"https://drive.google.com/uc?id=1uSSbCdKFDQz8qmlcOKYa_1mYP3u9j67i\"\n",
        "df = pd.read_csv(url, sep=';')\n",
        "\n",
        "# Разделение на признаки и целевую переменную\n",
        "X = df.drop(columns=['quality'])\n",
        "y = df['quality']\n",
        "\n",
        "# Создание пайплайна: сначала масштабирование (StandardScaler), затем классификация (KNeighborsClassifier)\n",
        "# Пайплайн автоматически масштабирует данные перед обучением модели\n",
        "pipeline = make_pipeline(\n",
        "    StandardScaler(), KNeighborsClassifier(n_neighbors=10))\n",
        "\n",
        "# Настройка кросс-валидации на 5 фолдов\n",
        "# 5 фолдов с перемешиванием данных\n",
        "kf = KFold(n_splits=5, shuffle=True, random_state=42)\n",
        "\n",
        "# Выполнение кросс-валидации с метрикой 'accuracy'\n",
        "# Оцениваем модель на каждом фолде\n",
        "scores = cross_val_score(pipeline, X, y, cv=kf, scoring='accuracy')\n",
        "\n",
        "# Вывод результатов\n",
        "print(\"Результаты accuracy на каждом фолде:\", scores)\n",
        "print(\"Среднее значение accuracy:\", scores.mean())\n"
      ]
    },
    {
      "cell_type": "code",
      "execution_count": 21,
      "metadata": {
        "id": "vM0AGQjWtUnh",
        "colab": {
          "base_uri": "https://localhost:8080/"
        },
        "outputId": "3639356e-32fe-49c4-c861-1d60ec20e5b3"
      },
      "outputs": [
        {
          "output_type": "stream",
          "name": "stdout",
          "text": [
            "Drive already mounted at /content/drive; to attempt to forcibly remount, call drive.mount(\"/content/drive\", force_remount=True).\n",
            "Результаты accuracy на каждом фолде: [0.56875    0.571875   0.546875   0.56875    0.66144201]\n",
            "Среднее значение accuracy: 0.5835384012539185\n"
          ]
        }
      ],
      "source": [
        "import pandas as pd\n",
        "from sklearn.model_selection import KFold, cross_val_score\n",
        "from sklearn.linear_model import RidgeClassifier\n",
        "\n",
        "# Подключение Google Диска\n",
        "from google.colab import drive\n",
        "drive.mount('/content/drive')\n",
        "\n",
        "# Загрузка данных\n",
        "url = \"https://drive.google.com/uc?id=1uSSbCdKFDQz8qmlcOKYa_1mYP3u9j67i\"\n",
        "df = pd.read_csv(url, sep=';')\n",
        "\n",
        "# Разделение на признаки и целевую переменную\n",
        "X = df.drop(columns=['quality'])\n",
        "y = df['quality']\n",
        "\n",
        "# Инициализация модели RidgeClassifier\n",
        "model = RidgeClassifier()\n",
        "\n",
        "# Настройка кросс-валидации на 5 фолдов\n",
        "# 5 фолдов с перемешиванием данных\n",
        "kf = KFold(n_splits=5, shuffle=True, random_state=42)\n",
        "\n",
        "# Выполнение кросс-валидации с метрикой 'accuracy'\n",
        "# Оцениваем модель на каждом фолде\n",
        "scores = cross_val_score(model, X, y, cv=kf, scoring='accuracy')\n",
        "\n",
        "# Вывод результатов\n",
        "print(\"Результаты accuracy на каждом фолде:\", scores)\n",
        "print(\"Среднее значение accuracy:\", scores.mean())\n"
      ]
    },
    {
      "cell_type": "code",
      "execution_count": 22,
      "metadata": {
        "id": "dN5WwmqmtUnh",
        "colab": {
          "base_uri": "https://localhost:8080/"
        },
        "outputId": "fb82b6a6-934f-4bb4-b25d-02e7534dbb2c"
      },
      "outputs": [
        {
          "output_type": "stream",
          "name": "stdout",
          "text": [
            "Drive already mounted at /content/drive; to attempt to forcibly remount, call drive.mount(\"/content/drive\", force_remount=True).\n",
            "Результаты accuracy на каждом фолде: [0.559375   0.615625   0.61875    0.6625     0.63322884]\n",
            "Среднее значение accuracy: 0.6178957680250783\n"
          ]
        }
      ],
      "source": [
        "import pandas as pd\n",
        "from sklearn.model_selection import KFold, cross_val_score\n",
        "from sklearn.tree import DecisionTreeClassifier\n",
        "\n",
        "# Подключение Google Диска\n",
        "from google.colab import drive\n",
        "drive.mount('/content/drive')\n",
        "\n",
        "# Загрузка данных\n",
        "url = \"https://drive.google.com/uc?id=1uSSbCdKFDQz8qmlcOKYa_1mYP3u9j67i\"\n",
        "df = pd.read_csv(url, sep=';')\n",
        "\n",
        "# Разделение на признаки и целевую переменную\n",
        "X = df.drop(columns=['quality'])\n",
        "y = df['quality']\n",
        "\n",
        "# Инициализация модели DecisionTreeClassifier\n",
        "# Используем фиксированный seed для воспроизводимости\n",
        "model = DecisionTreeClassifier(random_state=42)\n",
        "\n",
        "# Настройка кросс-валидации на 5 фолдов\n",
        "# 5 фолдов с перемешиванием данных\n",
        "kf = KFold(n_splits=5, shuffle=True, random_state=42)\n",
        "\n",
        "# Выполнение кросс-валидации с метрикой 'accuracy'\n",
        "# Оцениваем модель на каждом фолде\n",
        "scores = cross_val_score(model, X, y, cv=kf, scoring='accuracy')\n",
        "\n",
        "# Вывод результатов\n",
        "print(\"Результаты accuracy на каждом фолде:\", scores)\n",
        "print(\"Среднее значение accuracy:\", scores.mean())\n"
      ]
    },
    {
      "cell_type": "code",
      "execution_count": 26,
      "metadata": {
        "id": "g68uf-KVtUnh",
        "colab": {
          "base_uri": "https://localhost:8080/"
        },
        "outputId": "0ac8ea62-c184-4cb2-c2e9-b22220defcdb"
      },
      "outputs": [
        {
          "output_type": "stream",
          "name": "stdout",
          "text": [
            "Drive already mounted at /content/drive; to attempt to forcibly remount, call drive.mount(\"/content/drive\", force_remount=True).\n",
            "Результаты accuracy на каждом фолде: [0.64375   0.70625   0.675     0.71875   0.7460815]\n",
            "Среднее значение accuracy: 0.697966300940439\n"
          ]
        }
      ],
      "source": [
        "import pandas as pd\n",
        "from sklearn.model_selection import KFold, cross_val_score\n",
        "from sklearn.ensemble import BaggingClassifier\n",
        "from sklearn.tree import DecisionTreeClassifier\n",
        "\n",
        "# Подключение Google Диска\n",
        "from google.colab import drive\n",
        "drive.mount('/content/drive')\n",
        "\n",
        "# Загрузка данных\n",
        "url = \"https://drive.google.com/uc?id=1uSSbCdKFDQz8qmlcOKYa_1mYP3u9j67i\"\n",
        "df = pd.read_csv(url, sep=';')\n",
        "\n",
        "# Разделение на признаки и целевую переменную\n",
        "X = df.drop(columns=['quality'])\n",
        "y = df['quality']\n",
        "\n",
        "# Инициализация модели BaggingClassifier с 100 деревьями решений\n",
        "# В качестве базовой модели используем DecisionTreeClassifier\n",
        "model = BaggingClassifier(\n",
        "    estimator=DecisionTreeClassifier(), n_estimators=100, random_state=42)\n",
        "\n",
        "# Настройка кросс-валидации на 5 фолдов\n",
        "# 5 фолдов с перемешиванием данных\n",
        "kf = KFold(n_splits=5, shuffle=True, random_state=42)\n",
        "\n",
        "# Выполнение кросс-валидации с метрикой 'accuracy'\n",
        "# Оцениваем модель на каждом фолде\n",
        "scores = cross_val_score(model, X, y, cv=kf, scoring='accuracy')\n",
        "\n",
        "# Вывод результатов\n",
        "print(\"Результаты accuracy на каждом фолде:\", scores)\n",
        "print(\"Среднее значение accuracy:\", scores.mean())\n"
      ]
    },
    {
      "cell_type": "code",
      "execution_count": 28,
      "metadata": {
        "id": "euLcAbV-tUni",
        "colab": {
          "base_uri": "https://localhost:8080/"
        },
        "outputId": "e5bc95ff-285b-4719-e343-c6c1826fb430"
      },
      "outputs": [
        {
          "output_type": "stream",
          "name": "stdout",
          "text": [
            "Drive already mounted at /content/drive; to attempt to forcibly remount, call drive.mount(\"/content/drive\", force_remount=True).\n",
            "Результаты accuracy на каждом фолде: [0.66875    0.6875     0.69375    0.6875     0.73667712]\n",
            "Среднее значение accuracy: 0.6948354231974921\n"
          ]
        }
      ],
      "source": [
        "import pandas as pd\n",
        "from sklearn.model_selection import KFold, cross_val_score\n",
        "from sklearn.ensemble import BaggingClassifier\n",
        "from sklearn.tree import DecisionTreeClassifier\n",
        "\n",
        "# Подключение Google Диска\n",
        "from google.colab import drive\n",
        "drive.mount('/content/drive')\n",
        "\n",
        "# Загрузка данных\n",
        "url = \"https://drive.google.com/uc?id=1uSSbCdKFDQz8qmlcOKYa_1mYP3u9j67i\"\n",
        "df = pd.read_csv(url, sep=';')\n",
        "\n",
        "# Разделение на признаки и целевую переменную\n",
        "X = df.drop(columns=['quality'])\n",
        "y = df['quality']\n",
        "\n",
        "# Инициализация модели BaggingClassifier с 100 деревьями решений\n",
        "# В качестве базовой модели используем DecisionTreeClassifier\n",
        "# max_features=0.5 означает, что каждое дерево обучается только на половине случайно выбранных признаков\n",
        "model = BaggingClassifier(estimator=DecisionTreeClassifier(), n_estimators=100, max_features=0.5, random_state=42)\n",
        "\n",
        "\n",
        "# Настройка кросс-валидации на 5 фолдов\n",
        "# 5 фолдов с перемешиванием данных\n",
        "kf = KFold(n_splits=5, shuffle=True, random_state=42)\n",
        "\n",
        "# Выполнение кросс-валидации с метрикой 'accuracy'\n",
        "# Оцениваем модель на каждом фолде\n",
        "scores = cross_val_score(model, X, y, cv=kf, scoring='accuracy')\n",
        "\n",
        "# Вывод результатов\n",
        "print(\"Результаты accuracy на каждом фолде:\", scores)\n",
        "print(\"Среднее значение accuracy:\", scores.mean())"
      ]
    },
    {
      "cell_type": "code",
      "execution_count": 29,
      "metadata": {
        "id": "VWJjVMRjtUni",
        "colab": {
          "base_uri": "https://localhost:8080/"
        },
        "outputId": "a76f7881-8b34-4c0f-9293-09a9517df2bb"
      },
      "outputs": [
        {
          "output_type": "stream",
          "name": "stdout",
          "text": [
            "Drive already mounted at /content/drive; to attempt to forcibly remount, call drive.mount(\"/content/drive\", force_remount=True).\n",
            "Результаты accuracy на каждом фолде: [0.653125   0.7        0.703125   0.709375   0.74294671]\n",
            "Среднее значение accuracy: 0.7017143416927899\n"
          ]
        }
      ],
      "source": [
        "import pandas as pd\n",
        "from sklearn.model_selection import KFold, cross_val_score\n",
        "from sklearn.ensemble import RandomForestClassifier\n",
        "\n",
        "# Подключение Google Диска\n",
        "from google.colab import drive\n",
        "drive.mount('/content/drive')\n",
        "\n",
        "# Загрузка данных\n",
        "url = \"https://drive.google.com/uc?id=1uSSbCdKFDQz8qmlcOKYa_1mYP3u9j67i\"\n",
        "df = pd.read_csv(url, sep=';')\n",
        "\n",
        "# Разделение на признаки и целевую переменную\n",
        "X = df.drop(columns=['quality'])\n",
        "y = df['quality']\n",
        "\n",
        "# Инициализация модели RandomForestClassifier с 100 деревьями решений\n",
        "model = RandomForestClassifier(n_estimators=100, random_state=42)\n",
        "\n",
        "# Настройка кросс-валидации на 5 фолдов\n",
        "# 5 фолдов с перемешиванием данных\n",
        "kf = KFold(n_splits=5, shuffle=True, random_state=42)\n",
        "\n",
        "# Выполнение кросс-валидации с метрикой 'accuracy'\n",
        "# Оцениваем модель на каждом фолде\n",
        "scores = cross_val_score(model, X, y, cv=kf, scoring='accuracy')\n",
        "\n",
        "# Вывод результатов\n",
        "print(\"Результаты accuracy на каждом фолде:\", scores)\n",
        "print(\"Среднее значение accuracy:\", scores.mean())\n"
      ]
    },
    {
      "cell_type": "code",
      "execution_count": null,
      "metadata": {
        "id": "yMB2IObZtUni"
      },
      "outputs": [],
      "source": []
    },
    {
      "cell_type": "markdown",
      "metadata": {
        "id": "1b899GlotUni"
      },
      "source": [
        "### 1.3 Расуждения (8 баллов)\n",
        "\n",
        "Ответьте на вопросы развернуто, можете полистать литературу:\n",
        "\n",
        "- почему наблюдается значимая разница в качестве у KNeighborsClassifier с масштабированием и без\n",
        "- почему масштабирование не важно для деревьев решений\n",
        "- почему бэггинг на половине признаков для каждого дерева дал качество предсказания больше, чем на всех? (а он дал!)\n",
        "- у какой модели наибольшей отклонение от среднего качества предсказаний? А почему??"
      ]
    },
    {
      "cell_type": "code",
      "execution_count": 30,
      "metadata": {
        "id": "VsSjxv88tUni",
        "colab": {
          "base_uri": "https://localhost:8080/",
          "height": 106
        },
        "outputId": "2f585daf-48d2-458f-96f1-fdfbd17ba436"
      },
      "outputs": [
        {
          "output_type": "error",
          "ename": "SyntaxError",
          "evalue": "invalid syntax (<ipython-input-30-df77792109d9>, line 1)",
          "traceback": [
            "\u001b[0;36m  File \u001b[0;32m\"<ipython-input-30-df77792109d9>\"\u001b[0;36m, line \u001b[0;32m1\u001b[0m\n\u001b[0;31m    1. Разница в качестве между моделью KNeighborsClassifier с масштабированием и без него обусловлена тем, что K-ближайших соседей (K-Nearest Neighbors) является алгоритмом, чувствительным к масштабу данных.\u001b[0m\n\u001b[0m       ^\u001b[0m\n\u001b[0;31mSyntaxError\u001b[0m\u001b[0;31m:\u001b[0m invalid syntax\n"
          ]
        }
      ],
      "source": [
        "1. Разница в качестве между моделью KNeighborsClassifier с масштабированием и без него обусловлена тем, что K-ближайших соседей (K-Nearest Neighbors) является алгоритмом, чувствительным к масштабу данных.\n",
        "2. Масштабирование данных не является важным для деревьев решений (и моделей на их основе, таких как случайные леса или градиентный бустинг), потому что деревья решений не используют расстояния для разделения данных.\n",
        "Алгоритм деревьев решений работает по другому принципу, который не чувствителен к масштабу признаков. Основные причины, почему масштабирование не важно для деревьев решений: разбиения на основе значений признаков, отсутствие использования расстояний, индивидуальная обработка каждого признака, непрерывное обновление узлов.\n",
        "3. Если некоторые признаки очень информативны, деревья, обучающиеся на всех признаках, часто будут делать разделения по этим признакам на первых уровнях дерева. Это приводит к доминированию сильных признаков и подавлению других признаков, которые могут также содержать полезную информацию.\n",
        "Когда деревья обучаются на случайном подмножестве признаков, они вынуждены искать разделения по другим, менее очевидным признакам.\n",
        "Это позволяет выявить важные взаимодействия между признаками, которые могли бы быть проигнорированы при обучении на всех признаках. В результате увеличивается устойчивость модели к переобучению, и она лучше обобщает на новых данных.\n",
        "4. BaggingClassifier c 100 деревьев. Если в данных есть несколько признаков, которые оказывают наибольшее влияние на предсказания, случайный лес может выбирать их слишком часто для разделений на ранних уровнях деревьев.\n",
        "Если эти признаки случайно отсутствуют в одной из выборок фолдов (или недостаточно представлены в отдельных деревьях), это может привести к значительным колебаниям в качестве предсказаний на различных фолдах кросс-валидации."
      ]
    },
    {
      "cell_type": "markdown",
      "metadata": {
        "id": "7rSiehsctUni"
      },
      "source": [
        "## 2 Переобучение и Ко\n",
        "\n",
        "В последнем задании вы уже заметили, что случайный лес может вести себя немного нестабильно. В этом задании мы возьмем опять датасет MNIST(простите) и будем его решать деревьями. Почему мы взяли его? Потому что в нем фактически много разных признаков (значения пикселей в пространстве), а деревья строятся делая разбиения по признакам. Обычно на эти разбиения не обращают внимание, так как главное что тюнят - это глубина дереьвев, количество деревьев, а кучу других параметров обходят стороной, так как они \"неясные\". Попробуем прояснить их."
      ]
    },
    {
      "cell_type": "markdown",
      "metadata": {
        "id": "4sieOJKHtUni"
      },
      "source": [
        "### 2.1 Загрузка датасета (1 балл)\n",
        "\n",
        "Загрузите датасет с помощью функции `sklearn.datasets.load_digits`. В нем будут 64px картинки в векторной форме.\n",
        "\n",
        "Нарисуйте первые 10 цифр в одной ячейке, чтобы было красиво."
      ]
    },
    {
      "cell_type": "code",
      "execution_count": 31,
      "metadata": {
        "id": "qCbO5K9FtUni",
        "colab": {
          "base_uri": "https://localhost:8080/",
          "height": 112
        },
        "outputId": "3085dea9-c262-45dc-f7b1-72c7f2a8256f"
      },
      "outputs": [
        {
          "output_type": "display_data",
          "data": {
            "text/plain": [
              "<Figure size 1000x100 with 10 Axes>"
            ],
            "image/png": "[encoded data removed]"
          },
          "metadata": {}
        }
      ],
      "source": [
        "import matplotlib.pyplot as plt\n",
        "from sklearn.datasets import load_digits\n",
        "\n",
        "# Загружаем датасет с цифрами\n",
        "digits = load_digits()\n",
        "\n",
        "# Получаем изображения и метки (labels) цифр\n",
        "images = digits.images\n",
        "labels = digits.target\n",
        "\n",
        "# Создаем холст размером 10x1, чтобы поместить 10 графиков в одну строку\n",
        "fig, axes = plt.subplots(1, 10, figsize=(10, 1), gridspec_kw={'wspace': 0.5})\n",
        "\n",
        "# Проходим по первым 10 изображениям и отображаем каждое из них\n",
        "for i in range(10):\n",
        "    # Отображаем изображение в оттенках серого\n",
        "    axes[i].imshow(images[i], cmap='gray')\n",
        "    # Устанавливаем заголовок как метку (цифру)\n",
        "    axes[i].set_title(f'{labels[i]}')\n",
        "    axes[i].axis('off')  # Отключаем оси для красоты\n",
        "\n",
        "# Отображаем график\n",
        "plt.show()"
      ]
    },
    {
      "cell_type": "code",
      "execution_count": null,
      "metadata": {
        "id": "xCYI0EL7tUni"
      },
      "outputs": [],
      "source": []
    },
    {
      "cell_type": "code",
      "execution_count": null,
      "metadata": {
        "id": "V_ZnlXkLtUni"
      },
      "outputs": [],
      "source": []
    },
    {
      "cell_type": "markdown",
      "metadata": {
        "id": "k1E6PFOYtUni"
      },
      "source": [
        "### 2.2 Перебор классификаторов (3 балла)\n",
        "\n",
        "В этом задании вам снова придется перебрать несколько классификаторов, но теперь мы обратим внимание на другие гиперпараметры и их влияние на качество классификации, кстати опять `accuracy`.\n",
        "\n",
        "Сделайте кроссвалидацию на 10 фолдах, указав `cv=10` для следующих классификаторов:\n",
        "\n",
        "- DecisionTreeClassifier с параметрами по-умолчанию\n",
        "- BaggingClassifier с 100 деревьвев\n",
        "- BaggingClassifier с 100 деревьев, НО с ограничением на максимальное количество признаков, участвующих при обучении каждого из деревьев в $\\sqrt{N}$, где $N$ - это число признаков.\n",
        "- BaggingClassifier с 100 деревьев, НО с ограничением на количество признаков участвующих в разбиении для каждого из деревьев в $\\sqrt{N}$, где $N$ - это число признаков. Это отличается от предыдущей модели тем, где ограничивается `max_features`. Читайте документацию :trollface:\n",
        "- обычный случайный лес со 100 деревьями"
      ]
    },
    {
      "cell_type": "code",
      "execution_count": 32,
      "metadata": {
        "id": "9QQOGQh5tUni",
        "colab": {
          "base_uri": "https://localhost:8080/"
        },
        "outputId": "0b8eea01-9ea5-4532-8179-720ffaffffec"
      },
      "outputs": [
        {
          "output_type": "stream",
          "name": "stdout",
          "text": [
            "Accuracy на каждом фолде: [0.87777778 0.83333333 0.83333333 0.83888889 0.87777778 0.83333333\n",
            " 0.87777778 0.86592179 0.87709497 0.8547486 ]\n",
            "Средняя accuracy: 0.8570\n"
          ]
        }
      ],
      "source": [
        "from sklearn.datasets import load_digits\n",
        "from sklearn.tree import DecisionTreeClassifier\n",
        "from sklearn.model_selection import KFold, cross_val_score\n",
        "\n",
        "# Загрузка датасета\n",
        "digits = load_digits()\n",
        "\n",
        "# Разделение данных на признаки (features) и метки (labels)\n",
        "X = digits.data  # Здесь картинки представлены как векторы из 64 пикселей\n",
        "y = digits.target  # Метки, соответствующие цифрам\n",
        "\n",
        "# Создаем модель DecisionTreeClassifier с параметрами по умолчанию\n",
        "clf = DecisionTreeClassifier()\n",
        "\n",
        "# Настройка кросс-валидации с использованием 10 фолдов\n",
        "# shuffle=True для перемешивания данных перед разделением\n",
        "kf = KFold(n_splits=10, shuffle=True, random_state=42)\n",
        "\n",
        "# Выполняем кросс-валидацию с метрикой accuracy\n",
        "scores = cross_val_score(clf, X, y, cv=kf, scoring='accuracy')\n",
        "\n",
        "# Выводим результаты кросс-валидации\n",
        "print(f\"Accuracy на каждом фолде: {scores}\")\n",
        "print(f\"Средняя accuracy: {scores.mean():.4f}\")\n"
      ]
    },
    {
      "cell_type": "code",
      "execution_count": 34,
      "metadata": {
        "id": "AqytACIhtUni",
        "colab": {
          "base_uri": "https://localhost:8080/"
        },
        "outputId": "67dd699f-2c59-48c1-b136-c68913289266"
      },
      "outputs": [
        {
          "output_type": "stream",
          "name": "stdout",
          "text": [
            "Accuracy на каждом фолде: [0.94444444 0.97222222 0.95555556 0.93888889 0.95555556 0.91111111\n",
            " 0.97222222 0.93854749 0.94413408 0.96089385]\n",
            "Средняя accuracy: 0.9494\n"
          ]
        }
      ],
      "source": [
        "from sklearn.datasets import load_digits\n",
        "from sklearn.ensemble import BaggingClassifier\n",
        "from sklearn.tree import DecisionTreeClassifier\n",
        "from sklearn.model_selection import KFold, cross_val_score\n",
        "\n",
        "# Загрузка датасета\n",
        "digits = load_digits()\n",
        "\n",
        "# Разделение данных на признаки (features) и метки (labels)\n",
        "X = digits.data  # Здесь картинки представлены как векторы из 64 пикселей\n",
        "y = digits.target  # Метки, соответствующие цифрам\n",
        "\n",
        "# Создание базовой модели DecisionTreeClassifier\n",
        "base_model = DecisionTreeClassifier()\n",
        "\n",
        "# Создание модели BaggingClassifier с 100 деревьями\n",
        "bagging_clf = BaggingClassifier(\n",
        "    estimator=base_model, n_estimators=100, random_state=42)\n",
        "\n",
        "# Настройка кросс-валидации с использованием 10 фолдов\n",
        "kf = KFold(n_splits=10, shuffle=True, random_state=42)\n",
        "\n",
        "# Выполняем кросс-валидацию с метрикой accuracy\n",
        "scores = cross_val_score(bagging_clf, X, y, cv=kf, scoring='accuracy')\n",
        "\n",
        "# Выводим результаты кросс-валидации\n",
        "print(f\"Accuracy на каждом фолде: {scores}\")\n",
        "print(f\"Средняя accuracy: {scores.mean():.4f}\")"
      ]
    },
    {
      "cell_type": "code",
      "execution_count": 36,
      "metadata": {
        "id": "92PIOVUutUni",
        "colab": {
          "base_uri": "https://localhost:8080/"
        },
        "outputId": "199e676b-9e8e-4566-da40-1530c79ba332"
      },
      "outputs": [
        {
          "output_type": "stream",
          "name": "stdout",
          "text": [
            "Accuracy на каждом фолде: [0.98333333 0.97777778 0.98333333 0.98333333 0.96111111 0.96666667\n",
            " 0.98888889 0.98324022 0.97765363 0.97765363]\n",
            "Средняя accuracy: 0.9783\n"
          ]
        }
      ],
      "source": [
        "from sklearn.datasets import load_digits\n",
        "from sklearn.ensemble import BaggingClassifier\n",
        "from sklearn.tree import DecisionTreeClassifier\n",
        "from sklearn.model_selection import KFold, cross_val_score\n",
        "import numpy as np\n",
        "\n",
        "# Загрузка датасета\n",
        "digits = load_digits()\n",
        "\n",
        "# Разделение данных на признаки (features) и метки (labels)\n",
        "X = digits.data  # Векторизованные изображения (64 признака)\n",
        "y = digits.target  # Метки (цифры от 0 до 9)\n",
        "\n",
        "# Вычисление квадратного корня из числа признаков\n",
        "n_features = X.shape[1]  # Число признаков в каждом векторе (64)\n",
        "max_features = int(np.sqrt(n_features))  # Квадратный корень из числа признаков\n",
        "\n",
        "# Создание базовой модели DecisionTreeClassifier с ограничением на max_features\n",
        "base_model = DecisionTreeClassifier(max_features=max_features)\n",
        "\n",
        "# Создание модели BaggingClassifier с 100 деревьями\n",
        "bagging_clf = BaggingClassifier(\n",
        "    estimator=base_model, n_estimators=100, random_state=42)\n",
        "\n",
        "# Настройка кросс-валидации с использованием 10 фолдов\n",
        "kf = KFold(n_splits=10, shuffle=True, random_state=42)\n",
        "\n",
        "# Выполняем кросс-валидацию с метрикой accuracy\n",
        "scores = cross_val_score(bagging_clf, X, y, cv=kf, scoring='accuracy')\n",
        "\n",
        "# Выводим результаты кросс-валидации\n",
        "print(f\"Accuracy на каждом фолде: {scores}\")\n",
        "print(f\"Средняя accuracy: {scores.mean():.4f}\")\n"
      ]
    },
    {
      "cell_type": "code",
      "execution_count": 38,
      "metadata": {
        "id": "jqCNcfjDtUni",
        "colab": {
          "base_uri": "https://localhost:8080/"
        },
        "outputId": "56c81ca0-73e5-412c-88a8-ce1d499c8e65"
      },
      "outputs": [
        {
          "output_type": "stream",
          "name": "stdout",
          "text": [
            "Accuracy на каждом фолде: [0.96666667 0.94444444 0.96666667 0.95       0.95555556 0.93888889\n",
            " 0.94444444 0.95530726 0.96089385 0.94972067]\n",
            "Средняя accuracy: 0.9533\n"
          ]
        }
      ],
      "source": [
        "from sklearn.datasets import load_digits\n",
        "from sklearn.ensemble import BaggingClassifier\n",
        "from sklearn.tree import DecisionTreeClassifier\n",
        "from sklearn.model_selection import KFold, cross_val_score\n",
        "import numpy as np\n",
        "\n",
        "# Загрузка датасета\n",
        "digits = load_digits()\n",
        "\n",
        "# Разделение данных на признаки (features) и метки (labels)\n",
        "X = digits.data  # Векторизованные изображения (64 признака)\n",
        "y = digits.target  # Метки (цифры от 0 до 9)\n",
        "\n",
        "# Вычисление квадратного корня из числа признаков\n",
        "n_features = X.shape[1]  # Число признаков в каждом векторе (64)\n",
        "max_features = int(np.sqrt(n_features))  # Квадратный корень из числа признаков\n",
        "\n",
        "# Создание модели BaggingClassifier с 100 деревьями\n",
        "# Параметр max_features задается непосредственно в BaggingClassifier, что означает\n",
        "# что каждое дерево будет обучаться на случайном подмножестве признаков.\n",
        "bagging_clf = BaggingClassifier(\n",
        "    # Используем дерево решений как базовую модель\n",
        "    estimator=DecisionTreeClassifier(),\n",
        "    n_estimators=100,                         # Используем 100 деревьев\n",
        "    # Ограничиваем число признаков для каждого дерева как sqrt(N)\n",
        "    max_features=max_features,\n",
        "    # Фиксируем random_state для воспроизводимости\n",
        "    random_state=42\n",
        ")\n",
        "\n",
        "# Настройка кросс-валидации с использованием 10 фолдов\n",
        "kf = KFold(n_splits=10, shuffle=True, random_state=42)\n",
        "\n",
        "# Выполняем кросс-валидацию с метрикой accuracy\n",
        "scores = cross_val_score(bagging_clf, X, y, cv=kf, scoring='accuracy')\n",
        "\n",
        "# Выводим результаты кросс-валидации\n",
        "print(f\"Accuracy на каждом фолде: {scores}\")\n",
        "print(f\"Средняя accuracy: {scores.mean():.4f}\")"
      ]
    },
    {
      "cell_type": "code",
      "execution_count": 39,
      "metadata": {
        "id": "jeUxTfNZtUnj",
        "colab": {
          "base_uri": "https://localhost:8080/"
        },
        "outputId": "6562b337-6052-4a37-d1b3-9e452dc60048"
      },
      "outputs": [
        {
          "output_type": "stream",
          "name": "stdout",
          "text": [
            "Accuracy на каждом фолде: [0.97777778 0.97222222 0.98888889 0.98888889 0.96111111 0.96111111\n",
            " 0.98888889 0.97765363 0.98882682 0.98882682]\n",
            "Средняя accuracy: 0.9794\n"
          ]
        }
      ],
      "source": [
        "from sklearn.datasets import load_digits\n",
        "from sklearn.ensemble import RandomForestClassifier\n",
        "from sklearn.model_selection import KFold, cross_val_score\n",
        "\n",
        "# Загрузка датасета\n",
        "digits = load_digits()\n",
        "\n",
        "# Разделение данных на признаки (features) и метки (labels)\n",
        "X = digits.data  # Векторизованные изображения (64 признака)\n",
        "y = digits.target  # Метки (цифры от 0 до 9)\n",
        "\n",
        "# Создание модели случайного леса с 100 деревьями\n",
        "rf_clf = RandomForestClassifier(n_estimators=100, random_state=42)\n",
        "\n",
        "# Настройка кросс-валидации с использованием 10 фолдов\n",
        "kf = KFold(n_splits=10, shuffle=True, random_state=42)\n",
        "\n",
        "# Выполняем кросс-валидацию с метрикой accuracy\n",
        "scores = cross_val_score(rf_clf, X, y, cv=kf, scoring='accuracy')\n",
        "\n",
        "# Выводим результаты кросс-валидации\n",
        "print(f\"Accuracy на каждом фолде: {scores}\")\n",
        "print(f\"Средняя accuracy: {scores.mean():.4f}\")\n"
      ]
    },
    {
      "cell_type": "markdown",
      "metadata": {
        "id": "fhxORcSatUnj"
      },
      "source": [
        "### 2.3 В чём разница? (3 балла)\n",
        "\n",
        "Ответье на вопрос:\n",
        "\n",
        "Странно то как? Почему ограничение на количество признаков в разбиении дерева и ограничение в количестве признаков для построения каждого дерева в BaggingClasifier дало СОВСЕМ разный результат в качестве предсказания? В чем магия?"
      ]
    },
    {
      "cell_type": "code",
      "execution_count": null,
      "metadata": {
        "id": "-nRnH3xjtUnj"
      },
      "outputs": [],
      "source": [
        "Может быть\n",
        "Оба метода включают ограничение на количество признаков, их применение на разных уровнях (на уровне узлов дерева и на уровне дерева в ансамбле)\n",
        "приводит к различному влиянию на производительность модели. Ансамбли с большим разнообразием\n",
        "деревьев обычно работают лучше, чем единичные слабые деревья, даже если деревья обучаются с ограничениями."
      ]
    },
    {
      "cell_type": "markdown",
      "metadata": {
        "id": "qnaoeSaLtUnj"
      },
      "source": [
        "### 2.4 Количество деревьев (2 балла)\n",
        "\n",
        "Сделайте перебор количества деревьев для `RandomForestClassifier`. Сохраните качества кросс валидации на 10 фолдах для `[1,5,10,15,50,100,150,200,300]` количества деревьев. Нарисуйте график, где по оси x - количество деревьев, а по оси y - качество. При каком количестве деревьев получается самое хорошее качество?"
      ]
    },
    {
      "cell_type": "code",
      "execution_count": 40,
      "metadata": {
        "id": "AMDf3YM_tUnj",
        "colab": {
          "base_uri": "https://localhost:8080/",
          "height": 738
        },
        "outputId": "906a18b1-eede-44ae-82b7-4d89acb35f4d"
      },
      "outputs": [
        {
          "output_type": "stream",
          "name": "stdout",
          "text": [
            "Количество деревьев: 1, Средняя accuracy: 0.7907\n",
            "Количество деревьев: 5, Средняя accuracy: 0.9154\n",
            "Количество деревьев: 10, Средняя accuracy: 0.9488\n",
            "Количество деревьев: 15, Средняя accuracy: 0.9577\n",
            "Количество деревьев: 50, Средняя accuracy: 0.9761\n",
            "Количество деревьев: 100, Средняя accuracy: 0.9794\n",
            "Количество деревьев: 150, Средняя accuracy: 0.9805\n",
            "Количество деревьев: 200, Средняя accuracy: 0.9783\n",
            "Количество деревьев: 300, Средняя accuracy: 0.9772\n"
          ]
        },
        {
          "output_type": "display_data",
          "data": {
            "text/plain": [
              "<Figure size 1000x600 with 1 Axes>"
            ],
            "image/png": "[encoded data removed]"
          },
          "metadata": {}
        },
        {
          "output_type": "stream",
          "name": "stdout",
          "text": [
            "Лучшее качество достигается при количестве деревьев: 150, Accuracy: 0.9805\n"
          ]
        }
      ],
      "source": [
        "from sklearn.datasets import load_digits\n",
        "from sklearn.ensemble import RandomForestClassifier\n",
        "from sklearn.model_selection import KFold, cross_val_score\n",
        "import matplotlib.pyplot as plt\n",
        "import numpy as np\n",
        "\n",
        "# Загрузка датасета\n",
        "digits = load_digits()\n",
        "\n",
        "# Разделение данных на признаки (features) и метки (labels)\n",
        "X = digits.data  # Векторизованные изображения (64 признака)\n",
        "y = digits.target  # Метки (цифры от 0 до 9)\n",
        "\n",
        "# Список количества деревьев, который мы будем перебирать\n",
        "n_estimators_list = [1, 5, 10, 15, 50, 100, 150, 200, 300]\n",
        "\n",
        "# Сохраним средние значения accuracy для каждого количества деревьев\n",
        "mean_accuracies = []\n",
        "\n",
        "# Настройка кросс-валидации с использованием 10 фолдов\n",
        "kf = KFold(n_splits=10, shuffle=True, random_state=42)\n",
        "\n",
        "# Цикл по количеству деревьев\n",
        "for n_estimators in n_estimators_list:\n",
        "    # Создание модели случайного леса с текущим количеством деревьев\n",
        "    rf_clf = RandomForestClassifier(n_estimators=n_estimators, random_state=42)\n",
        "\n",
        "    # Выполнение кросс-валидации и вычисление среднего значения accuracy\n",
        "    scores = cross_val_score(rf_clf, X, y, cv=kf, scoring='accuracy')\n",
        "    mean_accuracy = scores.mean()  # Среднее качество для текущего количества деревьев\n",
        "    mean_accuracies.append(mean_accuracy)  # Сохраняем результат\n",
        "\n",
        "    # Выводим промежуточные результаты для каждого количества деревьев\n",
        "    print(\n",
        "        f\"Количество деревьев: {n_estimators}, Средняя accuracy: {mean_accuracy:.4f}\")\n",
        "\n",
        "# Построение графика зависимости количества деревьев от качества (accuracy)\n",
        "plt.figure(figsize=(10, 6))\n",
        "plt.plot(n_estimators_list, mean_accuracies,\n",
        "         marker='o', linestyle='-', color='b')\n",
        "plt.title('Зависимость качества от количества деревьев в RandomForestClassifier')\n",
        "plt.xlabel('Количество деревьев')\n",
        "plt.ylabel('Средняя accuracy (качество)')\n",
        "plt.grid(True)\n",
        "plt.show()\n",
        "\n",
        "# Определение лучшего результата\n",
        "best_n_estimators = n_estimators_list[np.argmax(mean_accuracies)]\n",
        "best_accuracy = max(mean_accuracies)\n",
        "print(\n",
        "    f\"Лучшее качество достигается при количестве деревьев: {best_n_estimators}, Accuracy: {best_accuracy:.4f}\")"
      ]
    },
    {
      "cell_type": "code",
      "execution_count": null,
      "metadata": {
        "id": "Acn53t_wtUnj"
      },
      "outputs": [],
      "source": []
    },
    {
      "cell_type": "markdown",
      "metadata": {
        "id": "r_na_k7ttUnj"
      },
      "source": [
        "### 2.5 Количество признаков  (2 балла)\n",
        "\n",
        "Переберите теперь максимальное количество признаков для `RandomForestClassifier` на 100 деревьях, от 1 до 64 с шагом 5. Постройте график качества по кроссвалидации на 10 фолдах."
      ]
    },
    {
      "cell_type": "code",
      "execution_count": 41,
      "metadata": {
        "id": "MywENw27tUnk",
        "colab": {
          "base_uri": "https://localhost:8080/",
          "height": 807
        },
        "outputId": "2c403f3f-1de8-4221-99df-015d5e4f50d3"
      },
      "outputs": [
        {
          "output_type": "stream",
          "name": "stdout",
          "text": [
            "Количество признаков: 1, Средняя accuracy: 0.9739\n",
            "Количество признаков: 6, Средняя accuracy: 0.9761\n",
            "Количество признаков: 11, Средняя accuracy: 0.9783\n",
            "Количество признаков: 16, Средняя accuracy: 0.9716\n",
            "Количество признаков: 21, Средняя accuracy: 0.9761\n",
            "Количество признаков: 26, Средняя accuracy: 0.9716\n",
            "Количество признаков: 31, Средняя accuracy: 0.9694\n",
            "Количество признаков: 36, Средняя accuracy: 0.9655\n",
            "Количество признаков: 41, Средняя accuracy: 0.9644\n",
            "Количество признаков: 46, Средняя accuracy: 0.9633\n",
            "Количество признаков: 51, Средняя accuracy: 0.9571\n",
            "Количество признаков: 56, Средняя accuracy: 0.9538\n",
            "Количество признаков: 61, Средняя accuracy: 0.9527\n"
          ]
        },
        {
          "output_type": "display_data",
          "data": {
            "text/plain": [
              "<Figure size 1000x600 with 1 Axes>"
            ],
            "image/png": "[encoded data removed]"
          },
          "metadata": {}
        },
        {
          "output_type": "stream",
          "name": "stdout",
          "text": [
            "Лучшее качество достигается при количестве признаков: 11, Accuracy: 0.9783\n"
          ]
        }
      ],
      "source": [
        "from sklearn.datasets import load_digits\n",
        "from sklearn.ensemble import RandomForestClassifier\n",
        "from sklearn.model_selection import KFold, cross_val_score\n",
        "import matplotlib.pyplot as plt\n",
        "\n",
        "# Шаг 1: Загрузка датасета\n",
        "digits = load_digits()\n",
        "\n",
        "# Шаг 2: Разделение данных на признаки (features) и метки (labels)\n",
        "X = digits.data  # Векторизованные изображения (64 признака)\n",
        "y = digits.target  # Метки (цифры от 0 до 9)\n",
        "\n",
        "# Шаг 3: Список максимального количества признаков для перебора от 1 до 64 с шагом 5\n",
        "max_features_list = list(range(1, 65, 5))  # От 1 до 64 с шагом 5\n",
        "\n",
        "# Сохраним средние значения accuracy для каждого количества признаков\n",
        "mean_accuracies = []\n",
        "\n",
        "# Шаг 4: Настройка кросс-валидации с использованием 10 фолдов\n",
        "kf = KFold(n_splits=10, shuffle=True, random_state=42)\n",
        "\n",
        "# Шаг 5: Цикл по количеству признаков\n",
        "for max_features in max_features_list:\n",
        "    # Создание модели случайного леса с текущим max_features и 100 деревьями\n",
        "    rf_clf = RandomForestClassifier(\n",
        "        n_estimators=100, max_features=max_features, random_state=42)\n",
        "\n",
        "    # Выполнение кросс-валидации и вычисление среднего значения accuracy\n",
        "    scores = cross_val_score(rf_clf, X, y, cv=kf, scoring='accuracy')\n",
        "    mean_accuracy = scores.mean()  # Среднее качество для текущего значения max_features\n",
        "    mean_accuracies.append(mean_accuracy)  # Сохраняем результат\n",
        "\n",
        "    # Выводим промежуточные результаты для каждого значения max_features\n",
        "    print(\n",
        "        f\"Количество признаков: {max_features}, Средняя accuracy: {mean_accuracy:.4f}\")\n",
        "\n",
        "# Шаг 6: Построение графика зависимости количества признаков от качества (accuracy)\n",
        "plt.figure(figsize=(10, 6))\n",
        "plt.plot(max_features_list, mean_accuracies,\n",
        "         marker='o', linestyle='-', color='b')\n",
        "plt.title('Зависимость качества от количества признаков в RandomForestClassifier')\n",
        "plt.xlabel('Количество признаков (max_features)')\n",
        "plt.ylabel('Средняя accuracy (качество)')\n",
        "plt.grid(True)\n",
        "plt.show()\n",
        "\n",
        "# Шаг 7: Определение лучшего результата\n",
        "best_max_features = max_features_list[mean_accuracies.index(\n",
        "    max(mean_accuracies))]\n",
        "best_accuracy = max(mean_accuracies)\n",
        "print(\n",
        "    f\"Лучшее качество достигается при количестве признаков: {best_max_features}, Accuracy: {best_accuracy:.4f}\")"
      ]
    },
    {
      "cell_type": "markdown",
      "metadata": {
        "id": "Hv8tZHHftUnn"
      },
      "source": [
        "### 2.5 Вопросы по RandomForest (8 баллов)\n",
        "\n",
        "Ответьте на вопросы:\n",
        "\n",
        "- Что происходит с ростом числа деревьев у случайного леса. Можно ли просто всегда брать 5000 деревьев и быть счастливым?\n",
        "- Как зависит качество предсказания в дереве в зависимости от max_features?\n",
        "- Почему качество зависит от max_features?\n",
        "- Как глубина деревьев влияет на качество случайного леса?"
      ]
    },
    {
      "cell_type": "markdown",
      "metadata": {
        "id": "Tt6xDBbYtUnn"
      },
      "source": []
    },
    {
      "cell_type": "markdown",
      "source": [
        "1. С увеличением числа деревьев увеличивается время и потребление ресурсов, необходимое для обучения модели. Чем больше деревьев, тем большее количество раз модель должна проходить через данные, строить и оценивать деревья. После определенного числа деревьев точность модели перестает расти существенно. Включение слишком большого числа деревьев (например, 5000) может дать лишь незначительное улучшение, и это улучшение, как правило, минимально по сравнению с затратами ресурсов. С увеличением числа деревьев до определенного порога точность модели будет улучшаться, но по мере дальнейшего увеличения количество улучшений становится всё меньше и меньше. Добавление деревьев выше этого порога практически не влияет на точность, но резко увеличивает вычислительные затраты.\n",
        "\n",
        "2. Очень малые значения max_features (близко к 1) могут привести к низкому качеству, поскольку дерево не будет иметь достаточно информации для принятия обоснованных решений при разбиении узлов.\n",
        "Слишком большие значения max_features (близко к числу всех признаков) могут увеличить точность на тренировочных данных, но при этом увеличат риск переобучения, что ухудшит точность на тестовых данных.\n",
        "Умеренные значения (например, sqrt(N) для классификации) обеспечивают хороший баланс между случайностью и использованием информативных признаков, что часто приводит к оптимальной обобщающей способности модели.\n",
        "\n",
        "3. Качество предсказаний модели случайного леса зависит от значения параметра max_features, потому что этот параметр влияет на:\n",
        "\n",
        " 1. Сложность дерева (и, как следствие, на риск переобучения). max_features определяет, сколько признаков (из всех доступных) модель будет рассматривать при каждом разбиении узла дерева. Чем больше признаков доступно на каждом шаге, тем более точным (и потенциально сложным) будет разбиение. Большее значение max_features (когда доступны почти все признаки) позволяет дереву находить \"лучшее\" возможное разбиение на каждом шаге, что делает его очень точным на тренировочных данных. Однако это может привести к переобучению, поскольку дерево слишком сильно подстраивается под конкретные детали обучающей выборки, в том числе под шум и случайные закономерности. Меньшее значение max_features (ограничение числа признаков) делает модель более случайной и простой. Это может снизить риск переобучения, но в то же время дерево может упускать важную информацию при разбиении, что приведет к недообучению.\n",
        " 2. Степень случайности разбиений, что важно для ансамблевых методов. Ограничение max_features делает деревья более разнообразными, так как каждое дерево строится на случайных подвыборках данных и признаков. Это снижает корреляцию между деревьями, что является ключевым фактором успеха случайных лесов.\n",
        " 3. Баланс между смещением и вариативностью. Когда max_features слишком мал, дерево может не иметь достаточно информации для принятия качественных решений на каждом шаге, что приводит к высоким ошибкам и снижению точности на тестовых данных. Если max_features слишком велик, дерево может слишком сильно подстраиваться под обучающие данные, что также снижает его способность хорошо работать на новых данных."
      ],
      "metadata": {
        "id": "Nk5Q9PlZYEaG"
      }
    },
    {
      "cell_type": "markdown",
      "metadata": {
        "id": "-I_kwQi6tUnn"
      },
      "source": [
        "![](https://habrastorage.org/web/ad8/366/a44/ad8366a4469346c6b2e1306495b05d1a.jpg)"
      ]
    }
  ],
  "metadata": {
    "kernelspec": {
      "display_name": "Python 3 (ipykernel)",
      "language": "python",
      "name": "python3"
    },
    "language_info": {
      "codemirror_mode": {
        "name": "ipython",
        "version": 3
      },
      "file_extension": ".py",
      "mimetype": "text/x-python",
      "name": "python",
      "nbconvert_exporter": "python",
      "pygments_lexer": "ipython3",
      "version": "3.10.1"
    },
    "colab": {
      "provenance": []
    }
  },
  "nbformat": 4,
  "nbformat_minor": 0
}