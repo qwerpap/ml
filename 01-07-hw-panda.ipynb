{
  "cells": [
    {
      "cell_type": "markdown",
      "metadata": {
        "id": "YTUXG5iI4OS8"
      },
      "source": [
        "## Домашняя работа. Pandas\n",
        "\n",
        "1. Скачайте этот ноутбук к себе.\n",
        "2. Заполните пропущенные ячейки, отвечая на заданные вопросы. Там должен быть код! (если не сказано обратное)\n",
        "3. Сохраните результат в своём гитхаб репозитории.\n",
        "\n",
        "#### Полезная литература\n",
        "\n",
        "- http://pandas.pydata.org/pandas-docs/stable/10min.html\n",
        "- https://pandas.pydata.org/pandas-docs/stable/indexing.html\n",
        "- https://pandas.pydata.org/pandas-docs/stable/missing_data.html"
      ]
    },
    {
      "cell_type": "markdown",
      "metadata": {
        "id": "y3Hcrjae4OS_"
      },
      "source": [
        "В этом задании мы с вами рассмотрим датасет [Adult Data Set](https://archive.ics.uci.edu/ml/datasets/Adult).\n",
        "Основывается он на данных переписи населения 1994 года в США.\n",
        "\n",
        "Расшифровка содержимого колонок:\n",
        "\n",
        "- age: continuous.\n",
        "- workclass: Private, Self-emp-not-inc, Self-emp-inc, Federal-gov, Local-gov, State-gov, Without-pay, Never-worked.\n",
        "- fnlwgt: continuous. sampling weight, more here: SIPP Weighting.\n",
        "- education: Bachelors, Some-college, 11th, HS-grad, Prof-school, Assoc-acdm, Assoc-voc, 9th, 7th-8th, 12th, Masters, 1st-4th, 10th, Doctorate, 5th-6th, Preschool.\n",
        "- education-num: continuous.\n",
        "- marital-status: Married-civ-spouse, Divorced, Never-married, Separated, Widowed, Married-spouse-absent, Married-AF-spouse.\n",
        "- occupation: Tech-support, Craft-repair, Other-service, Sales, Exec-managerial, Prof-specialty, Handlers-cleaners, Machine-op-inspct, Adm-clerical, Farming-fishing, Transport-moving, Priv-house-serv, Protective-serv, Armed-Forces.\n",
        "- relationship: Wife, Own-child, Husband, Not-in-family, Other-relative, Unmarried.\n",
        "- race: White, Asian-Pac-Islander, Amer-Indian-Eskimo, Other, Black.\n",
        "- sex: Female, Male.\n",
        "- capital-gain: continuous. Income from investment sources, apart from wages/salary.\n",
        "- capital-loss: continuous. Losses from investment sources, apart from wages/salary.\n",
        "- hours-per-week: continuous.\n",
        "- native-country: United-States, Cambodia, England, Puerto-Rico, Canada, Germany, Outlying-US(Guam-USVI-etc), India, Japan, Greece, South, China, Cuba, Iran, Honduras, Philippines, Italy, Poland, Jamaica, Vietnam, Mexico, Portugal, Ireland, France, Dominican-Republic, Laos, Ecuador, Taiwan, Haiti, Columbia, Hungary, Guatemala, Nicaragua, Scotland, Thailand, Yugoslavia, El-Salvador, Trinadad&Tobago, Peru, Hong, Holand-Netherlands.\n",
        "- income: Target feature. Binary.\tIncome >50K, <=50K."
      ]
    },
    {
      "cell_type": "code",
      "execution_count": null,
      "metadata": {
        "colab": {
          "base_uri": "https://localhost:8080/",
          "height": 35
        },
        "id": "xLymNdxW4OTA",
        "outputId": "2af177f1-1487-45aa-e0e6-13c46a69c90e"
      },
      "outputs": [
        {
          "output_type": "execute_result",
          "data": {
            "text/plain": [
              "'2.2.2'"
            ],
            "application/vnd.google.colaboratory.intrinsic+json": {
              "type": "string"
            }
          },
          "metadata": {},
          "execution_count": 1
        }
      ],
      "source": [
        "import pandas as pd\n",
        "pd.__version__ # 1.4.1"
      ]
    },
    {
      "cell_type": "code",
      "execution_count": null,
      "metadata": {
        "id": "qMDvgxZH4OTB",
        "outputId": "f8760784-ddf4-4da5-8354-c5e65a86d08a"
      },
      "outputs": [
        {
          "data": {
            "text/html": [
              "<div>\n",
              "<style scoped>\n",
              "    .dataframe tbody tr th:only-of-type {\n",
              "        vertical-align: middle;\n",
              "    }\n",
              "\n",
              "    .dataframe tbody tr th {\n",
              "        vertical-align: top;\n",
              "    }\n",
              "\n",
              "    .dataframe thead th {\n",
              "        text-align: right;\n",
              "    }\n",
              "</style>\n",
              "<table border=\"1\" class=\"dataframe\">\n",
              "  <thead>\n",
              "    <tr style=\"text-align: right;\">\n",
              "      <th></th>\n",
              "      <th>age</th>\n",
              "      <th>workclass</th>\n",
              "      <th>fnlwgt</th>\n",
              "      <th>education</th>\n",
              "      <th>education.num</th>\n",
              "      <th>marital.status</th>\n",
              "      <th>occupation</th>\n",
              "      <th>relationship</th>\n",
              "      <th>race</th>\n",
              "      <th>sex</th>\n",
              "      <th>capital.gain</th>\n",
              "      <th>capital.loss</th>\n",
              "      <th>hours.per.week</th>\n",
              "      <th>native.country</th>\n",
              "      <th>income</th>\n",
              "    </tr>\n",
              "  </thead>\n",
              "  <tbody>\n",
              "    <tr>\n",
              "      <th>0</th>\n",
              "      <td>90</td>\n",
              "      <td>NaN</td>\n",
              "      <td>77053</td>\n",
              "      <td>HS-grad</td>\n",
              "      <td>9</td>\n",
              "      <td>Widowed</td>\n",
              "      <td>NaN</td>\n",
              "      <td>Not-in-family</td>\n",
              "      <td>White</td>\n",
              "      <td>Female</td>\n",
              "      <td>0</td>\n",
              "      <td>4356</td>\n",
              "      <td>40</td>\n",
              "      <td>United-States</td>\n",
              "      <td>&lt;=50K</td>\n",
              "    </tr>\n",
              "    <tr>\n",
              "      <th>1</th>\n",
              "      <td>82</td>\n",
              "      <td>Private</td>\n",
              "      <td>132870</td>\n",
              "      <td>HS-grad</td>\n",
              "      <td>9</td>\n",
              "      <td>Widowed</td>\n",
              "      <td>Exec-managerial</td>\n",
              "      <td>Not-in-family</td>\n",
              "      <td>White</td>\n",
              "      <td>Female</td>\n",
              "      <td>0</td>\n",
              "      <td>4356</td>\n",
              "      <td>18</td>\n",
              "      <td>United-States</td>\n",
              "      <td>&lt;=50K</td>\n",
              "    </tr>\n",
              "    <tr>\n",
              "      <th>2</th>\n",
              "      <td>66</td>\n",
              "      <td>NaN</td>\n",
              "      <td>186061</td>\n",
              "      <td>Some-college</td>\n",
              "      <td>10</td>\n",
              "      <td>Widowed</td>\n",
              "      <td>NaN</td>\n",
              "      <td>Unmarried</td>\n",
              "      <td>Black</td>\n",
              "      <td>Female</td>\n",
              "      <td>0</td>\n",
              "      <td>4356</td>\n",
              "      <td>40</td>\n",
              "      <td>United-States</td>\n",
              "      <td>&lt;=50K</td>\n",
              "    </tr>\n",
              "    <tr>\n",
              "      <th>3</th>\n",
              "      <td>54</td>\n",
              "      <td>Private</td>\n",
              "      <td>140359</td>\n",
              "      <td>7th-8th</td>\n",
              "      <td>4</td>\n",
              "      <td>Divorced</td>\n",
              "      <td>Machine-op-inspct</td>\n",
              "      <td>Unmarried</td>\n",
              "      <td>White</td>\n",
              "      <td>Female</td>\n",
              "      <td>0</td>\n",
              "      <td>3900</td>\n",
              "      <td>40</td>\n",
              "      <td>United-States</td>\n",
              "      <td>&lt;=50K</td>\n",
              "    </tr>\n",
              "    <tr>\n",
              "      <th>4</th>\n",
              "      <td>41</td>\n",
              "      <td>Private</td>\n",
              "      <td>264663</td>\n",
              "      <td>Some-college</td>\n",
              "      <td>10</td>\n",
              "      <td>Separated</td>\n",
              "      <td>Prof-specialty</td>\n",
              "      <td>Own-child</td>\n",
              "      <td>White</td>\n",
              "      <td>Female</td>\n",
              "      <td>0</td>\n",
              "      <td>3900</td>\n",
              "      <td>40</td>\n",
              "      <td>United-States</td>\n",
              "      <td>&lt;=50K</td>\n",
              "    </tr>\n",
              "  </tbody>\n",
              "</table>\n",
              "</div>"
            ],
            "text/plain": [
              "   age workclass  fnlwgt     education  education.num marital.status  \\\n",
              "0   90       NaN   77053       HS-grad              9        Widowed   \n",
              "1   82   Private  132870       HS-grad              9        Widowed   \n",
              "2   66       NaN  186061  Some-college             10        Widowed   \n",
              "3   54   Private  140359       7th-8th              4       Divorced   \n",
              "4   41   Private  264663  Some-college             10      Separated   \n",
              "\n",
              "          occupation   relationship   race     sex  capital.gain  \\\n",
              "0                NaN  Not-in-family  White  Female             0   \n",
              "1    Exec-managerial  Not-in-family  White  Female             0   \n",
              "2                NaN      Unmarried  Black  Female             0   \n",
              "3  Machine-op-inspct      Unmarried  White  Female             0   \n",
              "4     Prof-specialty      Own-child  White  Female             0   \n",
              "\n",
              "   capital.loss  hours.per.week native.country income  \n",
              "0          4356              40  United-States  <=50K  \n",
              "1          4356              18  United-States  <=50K  \n",
              "2          4356              40  United-States  <=50K  \n",
              "3          3900              40  United-States  <=50K  \n",
              "4          3900              40  United-States  <=50K  "
            ]
          },
          "execution_count": 2,
          "metadata": {},
          "output_type": "execute_result"
        }
      ],
      "source": [
        "columns='age,workclass,fnlwgt,education,education-num,marital-status,occupation,relationship,race,sex,capital-gain,capital-loss,hours-per-week,native-country,income'.split(',')\n",
        "df = pd.read_csv('data/adult.csv.gz', na_values='?') # можно загрузить из файла или URL\n",
        "# df = pd.read_csv('https://archive.ics.uci.edu/ml/machine-learning-databases/adult/adult.data', na_values='?', names=columns)\n",
        "df.head()"
      ]
    },
    {
      "cell_type": "markdown",
      "metadata": {
        "id": "dxsoA3S04OTB"
      },
      "source": [
        "1) Выведите последние 10 элеметнов датасета"
      ]
    },
    {
      "cell_type": "code",
      "execution_count": null,
      "metadata": {
        "colab": {
          "base_uri": "https://localhost:8080/"
        },
        "id": "p2CNqdfb4OTB",
        "outputId": "43133854-3db4-4aa2-a160-36a2f87f0b1f"
      },
      "outputs": [
        {
          "output_type": "stream",
          "name": "stdout",
          "text": [
            "       age      workclass  fnlwgt      education  education.num  \\\n",
            "32551   32        Private   34066           10th              6   \n",
            "32552   43        Private   84661      Assoc-voc             11   \n",
            "32553   32        Private  116138        Masters             14   \n",
            "32554   53        Private  321865        Masters             14   \n",
            "32555   22        Private  310152   Some-college             10   \n",
            "32556   27        Private  257302     Assoc-acdm             12   \n",
            "32557   40        Private  154374        HS-grad              9   \n",
            "32558   58        Private  151910        HS-grad              9   \n",
            "32559   22        Private  201490        HS-grad              9   \n",
            "32560   52   Self-emp-inc  287927        HS-grad              9   \n",
            "\n",
            "            marital.status          occupation    relationship  \\\n",
            "32551   Married-civ-spouse   Handlers-cleaners         Husband   \n",
            "32552   Married-civ-spouse               Sales         Husband   \n",
            "32553        Never-married        Tech-support   Not-in-family   \n",
            "32554   Married-civ-spouse     Exec-managerial         Husband   \n",
            "32555        Never-married     Protective-serv   Not-in-family   \n",
            "32556   Married-civ-spouse        Tech-support            Wife   \n",
            "32557   Married-civ-spouse   Machine-op-inspct         Husband   \n",
            "32558              Widowed        Adm-clerical       Unmarried   \n",
            "32559        Never-married        Adm-clerical       Own-child   \n",
            "32560   Married-civ-spouse     Exec-managerial            Wife   \n",
            "\n",
            "                      race      sex  capital.gain  capital.loss  \\\n",
            "32551   Amer-Indian-Eskimo     Male             0             0   \n",
            "32552                White     Male             0             0   \n",
            "32553   Asian-Pac-Islander     Male             0             0   \n",
            "32554                White     Male             0             0   \n",
            "32555                White     Male             0             0   \n",
            "32556                White   Female             0             0   \n",
            "32557                White     Male             0             0   \n",
            "32558                White   Female             0             0   \n",
            "32559                White     Male             0             0   \n",
            "32560                White   Female         15024             0   \n",
            "\n",
            "       hours.per.week  native.country  income  \n",
            "32551              40   United-States   <=50K  \n",
            "32552              45   United-States   <=50K  \n",
            "32553              11          Taiwan   <=50K  \n",
            "32554              40   United-States    >50K  \n",
            "32555              40   United-States   <=50K  \n",
            "32556              38   United-States   <=50K  \n",
            "32557              40   United-States    >50K  \n",
            "32558              40   United-States   <=50K  \n",
            "32559              20   United-States   <=50K  \n",
            "32560              40   United-States    >50K  \n"
          ]
        }
      ],
      "source": [
        "import pandas as pd\n",
        "pd.__version__ # 1.4.1\n",
        "\n",
        "columns = 'age,workclass,fnlwgt,education,education.num,marital.status,occupation,relationship,race,sex,capital.gain,capital.loss,hours.per.week,native.country,income'.split(\n",
        "    ',')\n",
        "\n",
        "url = 'https://archive.ics.uci.edu/ml/machine-learning-databases/adult/adult.data'\n",
        "df = pd.read_csv(url, na_values='?', names=columns)\n",
        "\n",
        "# Выводим последние 10 элементов DataFrame\n",
        "# Функция tail(n) выводит последние n строк\n",
        "last_10_rows = df.tail(10)\n",
        "# Выводим результат\n",
        "print(last_10_rows)\n"
      ]
    },
    {
      "cell_type": "markdown",
      "metadata": {
        "id": "tNB79gPj4OTB"
      },
      "source": [
        "2) Сколько колонок и сколько строк в этом датасете?"
      ]
    },
    {
      "cell_type": "code",
      "execution_count": null,
      "metadata": {
        "id": "yPrxgSN64OTB",
        "colab": {
          "base_uri": "https://localhost:8080/"
        },
        "outputId": "d0f6acfe-da8e-4d1d-a379-c6c3a2820fe4"
      },
      "outputs": [
        {
          "output_type": "stream",
          "name": "stdout",
          "text": [
            "Количество колонок (столбцов): 15\n",
            "Количество строк: 32561\n"
          ]
        }
      ],
      "source": [
        "import pandas as pd\n",
        "\n",
        "columns = 'age,workclass,fnlwgt,education,education.num,marital.status,occupation,relationship,race,sex,capital.gain,capital.loss,hours.per.week,native.country,income'.split(\n",
        "    ',')\n",
        "\n",
        "url = 'https://archive.ics.uci.edu/ml/machine-learning-databases/adult/adult.data'\n",
        "df = pd.read_csv(url, na_values='?', names=columns)\n",
        "\n",
        "# Подсчет количества колонок (столбцов)\n",
        "num_columns = len(df.columns)\n",
        "# Подсчет количества строк\n",
        "num_rows = len(df)\n",
        "# Выводим результаты\n",
        "print(f'Количество колонок (столбцов): {num_columns}')\n",
        "print(f'Количество строк: {num_rows}')"
      ]
    },
    {
      "cell_type": "markdown",
      "metadata": {
        "id": "xqND86bg4OTC"
      },
      "source": [
        "3) Какие типы данных у элементов этого датасета?"
      ]
    },
    {
      "cell_type": "code",
      "execution_count": null,
      "metadata": {
        "id": "5iQ-EJn44OTC",
        "colab": {
          "base_uri": "https://localhost:8080/"
        },
        "outputId": "6711e1ff-5dbe-48ac-efe7-73dfcae23412"
      },
      "outputs": [
        {
          "output_type": "stream",
          "name": "stdout",
          "text": [
            "Типы данных для каждого столбца в датасете:\n",
            "age                int64\n",
            "workclass         object\n",
            "fnlwgt             int64\n",
            "education         object\n",
            "education.num      int64\n",
            "marital.status    object\n",
            "occupation        object\n",
            "relationship      object\n",
            "race              object\n",
            "sex               object\n",
            "capital.gain       int64\n",
            "capital.loss       int64\n",
            "hours.per.week     int64\n",
            "native.country    object\n",
            "income            object\n",
            "dtype: object\n"
          ]
        }
      ],
      "source": [
        "import pandas as pd\n",
        "\n",
        "columns = 'age,workclass,fnlwgt,education,education.num,marital.status,occupation,relationship,race,sex,capital.gain,capital.loss,hours.per.week,native.country,income'.split(\n",
        "    ',')\n",
        "\n",
        "url = 'https://archive.ics.uci.edu/ml/machine-learning-databases/adult/adult.data'\n",
        "df = pd.read_csv(url, na_values='?', names=columns)\n",
        "\n",
        "# Получение типов данных для каждого столбца\n",
        "data_types = df.dtypes\n",
        "# Выводим типы данных для каждого столбца\n",
        "print(\"Типы данных для каждого столбца в датасете:\")\n",
        "print(data_types)\n"
      ]
    },
    {
      "cell_type": "markdown",
      "metadata": {
        "id": "NEmr2bIF4OTC"
      },
      "source": [
        "4) Какие признаки имеют пропуски?"
      ]
    },
    {
      "cell_type": "code",
      "execution_count": 8,
      "metadata": {
        "id": "xfvEy_-14OTC",
        "colab": {
          "base_uri": "https://localhost:8080/"
        },
        "outputId": "c57fe285-b1a5-4079-ea45-c5cc3fee2576"
      },
      "outputs": [
        {
          "output_type": "stream",
          "name": "stdout",
          "text": [
            "Столбцы с пустыми или N/A значениями:\n",
            "[1, 6, 13]\n"
          ]
        }
      ],
      "source": [
        "import pandas as pd\n",
        "\n",
        "# Загружаем данные\n",
        "url = 'https://archive.ics.uci.edu/ml/machine-learning-databases/adult/adult.data'\n",
        "df = pd.read_csv(url, header=None, na_values=\" ?\")  # Добавили `na_values=\" ?\"` для обработки пропусков\n",
        "\n",
        "# Шаг 1: Определяем, в каких столбцах есть пустые или N/A значения\n",
        "columns_with_na = df.columns[df.isnull().any()].tolist()\n",
        "\n",
        "# Шаг 2: Выводим список столбцов с пропусками\n",
        "print(\"Столбцы с пустыми или N/A значениями:\")\n",
        "print(columns_with_na)\n",
        "\n"
      ]
    },
    {
      "cell_type": "markdown",
      "metadata": {
        "id": "PAyvDaic4OTC"
      },
      "source": [
        "5) Как вы думаете, с чем связаны пропуски этих значение. Напишите развернутый ответ в ячейке ниже."
      ]
    },
    {
      "cell_type": "code",
      "source": [
        "\n",
        "1. Отсутствие данных при сборе информации. В процессе сбора данных некоторые поля могли остаться не заполненными. Например, если респондент не предоставил информацию о возрасте, образовании или доходе, то в этих полях может остаться пропуск.\n",
        " Это особенно актуально для анкет или опросов, где не все участники отвечают на все вопросы.\n",
        "2. Необязательные поля. Некоторые поля могут быть необязательными, и не все опрашиваемые должны заполнять их. Например, поле \"capital gain\" или \"capital loss\" может быть пустым для тех, у кого нет капитала.\n",
        "\n",
        "3. Человеческие ошибки. Если данные вводятся вручную, то возможны ошибки со стороны человека: пропуск заполнения полей, случайное удаление данных, ошибки при вводе и так далее.\n",
        "4. Устаревшие данные. В некоторых случаях данные могли быть устаревшими или недоступными в момент записи."
      ],
      "metadata": {
        "id": "2mgII4t9QVih"
      },
      "execution_count": null,
      "outputs": []
    },
    {
      "cell_type": "markdown",
      "metadata": {
        "id": "SGP-n_cu4OTC"
      },
      "source": [
        "Ваш ответ:"
      ]
    },
    {
      "cell_type": "markdown",
      "metadata": {
        "id": "iAcQZHWq4OTC"
      },
      "source": [
        "6) Какие и сколько различных рабочих классов workclass представлено в выборке?"
      ]
    },
    {
      "cell_type": "code",
      "execution_count": null,
      "metadata": {
        "id": "TYE6_EJo4OTC",
        "colab": {
          "base_uri": "https://localhost:8080/"
        },
        "outputId": "3c0e834a-a3e9-438f-a91b-d875a1898ed6"
      },
      "outputs": [
        {
          "output_type": "stream",
          "name": "stdout",
          "text": [
            "Различные рабочие классы, представленные в выборке:\n",
            "[' State-gov' ' Self-emp-not-inc' ' Private' ' Federal-gov' ' Local-gov'\n",
            " ' ?' ' Self-emp-inc' ' Without-pay' ' Never-worked']\n",
            "\n",
            "Количество представителей каждого рабочего класса:\n",
            "workclass\n",
            "Private             22696\n",
            "Self-emp-not-inc     2541\n",
            "Local-gov            2093\n",
            "?                    1836\n",
            "State-gov            1298\n",
            "Self-emp-inc         1116\n",
            "Federal-gov           960\n",
            "Without-pay            14\n",
            "Never-worked            7\n",
            "Name: count, dtype: int64\n"
          ]
        }
      ],
      "source": [
        "import pandas as pd\n",
        "import numpy as np\n",
        "\n",
        "columns='age,workclass,fnlwgt,education,education.num,marital.status,occupation,relationship,race,sex,capital.gain,capital.loss,hours.per.week,native.country,income'.split(',')\n",
        "url = 'https://archive.ics.uci.edu/ml/machine-learning-databases/adult/adult.data'\n",
        "df = pd.read_csv(url, na_values='?', names=columns)\n",
        "\n",
        "\n",
        "df.head()\n",
        "\n",
        "# Шаг 1: Определение уникальных значений в колонке 'workclass'\n",
        "unique_workclasses = df['workclass'].unique()\n",
        "\n",
        "# Шаг 2: Подсчет количества каждого рабочего класса\n",
        "workclass_counts = df['workclass'].value_counts()\n",
        "\n",
        "# Выводим уникальные рабочие классы\n",
        "print(\"Различные рабочие классы, представленные в выборке:\")\n",
        "print(unique_workclasses)\n",
        "\n",
        "# Выводим количество представителей каждого рабочего класса\n",
        "print(\"\\nКоличество представителей каждого рабочего класса:\")\n",
        "print(workclass_counts)\n"
      ]
    },
    {
      "cell_type": "markdown",
      "metadata": {
        "id": "ihiqXl8w4OTC"
      },
      "source": [
        "7) Какой средний возраст женщин и мужчин?"
      ]
    },
    {
      "cell_type": "code",
      "execution_count": null,
      "metadata": {
        "id": "UfE8Tv9I4OTC",
        "colab": {
          "base_uri": "https://localhost:8080/"
        },
        "outputId": "21582ed1-bf2d-4c3b-8864-26d07253aa4e"
      },
      "outputs": [
        {
          "output_type": "stream",
          "name": "stdout",
          "text": [
            "Средний возраст женщин: 37 лет\n",
            "Средний возраст мужчин: 39 лет\n"
          ]
        }
      ],
      "source": [
        "import pandas as pd\n",
        "import numpy as np\n",
        "\n",
        "columns='age,workclass,fnlwgt,education,education.num,marital.status,occupation,relationship,race,sex,capital.gain,capital.loss,hours.per.week,native.country,income'.split(',')\n",
        "url = 'https://archive.ics.uci.edu/ml/machine-learning-databases/adult/adult.data'\n",
        "df = pd.read_csv(url, na_values='?', names=columns)\n",
        "\n",
        "df.head()\n",
        "\n",
        "# Шаг 1: Удаление пробелов в колонке 'sex'\n",
        "df['sex'] = df['sex'].str.strip()\n",
        "\n",
        "# Шаг 3: Фильтрация данных для определения среднего возраста мужчин и женщин\n",
        "\n",
        "# Определение среднего возраста женщин, исключая NaN\n",
        "female_avg_age = df[df['sex'] == 'Female']['age'].mean()\n",
        "\n",
        "# Определение среднего возраста мужчин, исключая NaN\n",
        "male_avg_age = df[df['sex'] == 'Male']['age'].mean()\n",
        "\n",
        "# Выводим результаты\n",
        "print(f'Средний возраст женщин: {female_avg_age:.0f} лет' if not np.isnan(female_avg_age) else 'Нет данных для женщин')\n",
        "print(f'Средний возраст мужчин: {male_avg_age:.0f} лет' if not np.isnan(male_avg_age) else 'Нет данных для мужчин')\n"
      ]
    },
    {
      "cell_type": "markdown",
      "metadata": {
        "id": "myenHwtl4OTD"
      },
      "source": [
        "8) Постройте гистограмму(bar) распределения образования людей (education)"
      ]
    },
    {
      "cell_type": "code",
      "execution_count": null,
      "metadata": {
        "id": "hRSFPCDc4OTD",
        "colab": {
          "base_uri": "https://localhost:8080/",
          "height": 607
        },
        "outputId": "4c34b3db-39e2-4749-f0bc-c10c26e0496c"
      },
      "outputs": [
        {
          "output_type": "display_data",
          "data": {
            "text/plain": [
              "<Figure size 1000x600 with 1 Axes>"
            ],
            "image/png": "[encoded data removed]"
          },
          "metadata": {}
        }
      ],
      "source": [
        "import pandas as pd\n",
        "import numpy as np\n",
        "import matplotlib.pyplot as plt\n",
        "\n",
        "columns='age,workclass,fnlwgt,education,education.num,marital.status,occupation,relationship,race,sex,capital.gain,capital.loss,hours.per.week,native.country,income'.split(',')\n",
        "url = 'https://archive.ics.uci.edu/ml/machine-learning-databases/adult/adult.data'\n",
        "df = pd.read_csv(url, na_values='?', names=columns)\n",
        "df.head()\n",
        "\n",
        "# Шаг 1: Подсчет количества людей с различными уровнями образования\n",
        "education_counts = df['education'].value_counts()\n",
        "\n",
        "# Шаг 2: Построение столбчатой диаграммы (bar chart)\n",
        "plt.figure(figsize=(10, 6))  # Устанавливаем размер графика\n",
        "education_counts.plot(kind='bar', color='skyblue')\n",
        "\n",
        "# Шаг 3: Добавляем заголовок и метки осей\n",
        "plt.title('Распределение уровня образования', fontsize=16)\n",
        "plt.xlabel('Уровень образования', fontsize=14)\n",
        "plt.ylabel('Количество людей', fontsize=14)\n",
        "\n",
        "# Шаг 4: Отображаем график\n",
        "plt.tight_layout()  # Для предотвращения перекрытия элементов графика\n",
        "plt.show()\n"
      ]
    },
    {
      "cell_type": "markdown",
      "metadata": {
        "id": "EFZgTm0v4OTD"
      },
      "source": [
        "9) Каковы средние значения и среднеквадратичные отклонения возраста тех, кто получает более 50K в год (признак salary) и тех, кто получает менее 50K в год?"
      ]
    },
    {
      "cell_type": "code",
      "execution_count": null,
      "metadata": {
        "id": "fMywk5og4OTD",
        "colab": {
          "base_uri": "https://localhost:8080/"
        },
        "outputId": "411edd7b-5042-485e-f6a4-5613f16f3875"
      },
      "outputs": [
        {
          "output_type": "stream",
          "name": "stdout",
          "text": [
            "Средний возраст тех, кто зарабатывает <=50K: 36.78 лет, стандартное отклонение: 14.02\n",
            "Средний возраст тех, кто зарабатывает >50K: 44.25 лет, стандартное отклонение: 10.52\n"
          ]
        }
      ],
      "source": [
        "import pandas as pd\n",
        "\n",
        "columns = 'age,workclass,fnlwgt,education,education.num,marital.status,occupation,relationship,race,sex,capital.gain,capital.loss,hours.per.week,native.country,income'.split(',')\n",
        "url = 'https://archive.ics.uci.edu/ml/machine-learning-databases/adult/adult.data'\n",
        "df = pd.read_csv(url, na_values='?', names=columns)\n",
        "\n",
        "# Удалим пробелы в значениях колонки 'income'\n",
        "df['income'] = df['income'].str.strip()\n",
        "\n",
        "# Проверка преобразования значений 'age' в числовые\n",
        "df['age'] = pd.to_numeric(df['age'], errors='coerce')\n",
        "\n",
        "# Фильтрация данных по уровню заработка\n",
        "less_than_50k = df[df['income'] == '<=50K']\n",
        "more_than_50k = df[df['income'] == '>50K']\n",
        "\n",
        "# Вычисление средних значений и стандартного отклонения для каждой группы\n",
        "mean_age_less_50k = less_than_50k['age'].mean()\n",
        "std_age_less_50k = less_than_50k['age'].std()\n",
        "\n",
        "mean_age_more_50k = more_than_50k['age'].mean()\n",
        "std_age_more_50k = more_than_50k['age'].std()\n",
        "\n",
        "# Вывод результатов\n",
        "print(f\"Средний возраст тех, кто зарабатывает <=50K: {mean_age_less_50k:.2f} лет, стандартное отклонение: {std_age_less_50k:.2f}\")\n",
        "print(f\"Средний возраст тех, кто зарабатывает >50K: {mean_age_more_50k:.2f} лет, стандартное отклонение: {std_age_more_50k:.2f}\")\n"
      ]
    },
    {
      "cell_type": "markdown",
      "metadata": {
        "id": "CnvuEmVG4OTD"
      },
      "source": [
        "10) Правда ли, что люди, которые получают больше 50k, имеют как минимум высшее образование? (признак education - Bachelors, Prof-school, Assoc-acdm, Assoc-voc, Masters или Doctorate)"
      ]
    },
    {
      "cell_type": "code",
      "execution_count": null,
      "metadata": {
        "id": "aKqzOquv4OTD",
        "colab": {
          "base_uri": "https://localhost:8080/"
        },
        "outputId": "8069be33-b763-4a1f-9297-93ce5bf13854"
      },
      "outputs": [
        {
          "output_type": "stream",
          "name": "stdout",
          "text": [
            "Да, все люди, которые зарабатывают больше 50K, имеют как минимум высшее образование.\n"
          ]
        }
      ],
      "source": [
        "import pandas as pd\n",
        "import numpy as np\n",
        "import matplotlib.pyplot as plt\n",
        "\n",
        "columns='age,workclass,fnlwgt,education,education.num,marital.status,occupation,relationship,race,sex,capital.gain,capital.loss,hours.per.week,native.country,income'.split(',')\n",
        "url = 'https://archive.ics.uci.edu/ml/machine-learning-databases/adult/adult.data'\n",
        "df = pd.read_csv(url, na_values='?', names=columns)\n",
        "\n",
        "df.head()\n",
        "\n",
        "# Шаг 1: Определение списка категорий высшего образования\n",
        "higher_education = ['Bachelors', 'Prof-school', 'Assoc-acdm', 'Assoc-voc', 'Masters', 'Doctorate']\n",
        "\n",
        "# Шаг 2: Фильтрация данных для тех, кто зарабатывает >50K\n",
        "more_than_50k = df[df['income'] == '>50K']\n",
        "\n",
        "# Шаг 3: Проверка, имеют ли все люди, зарабатывающие >50K, высшее образование\n",
        "# Для этого проверяем, содержатся ли значения из столбца 'education' в списке 'higher_education'\n",
        "all_have_higher_education = more_than_50k['education'].isin(higher_education).all()\n",
        "\n",
        "# Шаг 4: Выводим результат\n",
        "if all_have_higher_education:\n",
        "    print(\"Да, все люди, которые зарабатывают больше 50K, имеют как минимум высшее образование.\")\n",
        "else:\n",
        "    print(\"Нет, не все люди, которые зарабатывают больше 50K, имеют высшее образование.\")\n"
      ]
    },
    {
      "cell_type": "markdown",
      "metadata": {
        "id": "dPW5nNN24OTD"
      },
      "source": [
        "11) Среди кого больше доля зарабатывающих много (>50K): среди женатых или холостых мужчин (признак marital-status)? Женатыми считаем тех, у кого marital-status начинается с Married (Married-civ-spouse, Married-spouse-absent или Married-AF-spouse), остальных считаем холостыми."
      ]
    },
    {
      "cell_type": "code",
      "execution_count": null,
      "metadata": {
        "id": "HXetd25D4OTD",
        "colab": {
          "base_uri": "https://localhost:8080/"
        },
        "outputId": "7af8eced-e3b3-4a39-dc04-b28fc4a90397"
      },
      "outputs": [
        {
          "output_type": "stream",
          "name": "stdout",
          "text": [
            "Доля зарабатывающих >50K среди женатых мужчин: 44.05%\n",
            "Доля зарабатывающих >50K среди холостых мужчин: 8.45%\n",
            "Женатые мужчины имеют большую долю зарабатывающих >50K.\n"
          ]
        }
      ],
      "source": [
        "import pandas as pd\n",
        "import numpy as np\n",
        "import matplotlib.pyplot as plt\n",
        "\n",
        "columns='age,workclass,fnlwgt,education,education.num,marital.status,occupation,relationship,race,sex,capital.gain,capital.loss,hours.per.week,native.country,income'.split(',')\n",
        "url = 'https://archive.ics.uci.edu/ml/machine-learning-databases/adult/adult.data'\n",
        "df = pd.read_csv(url, na_values='?', names=columns)\n",
        "\n",
        "\n",
        "df.head()\n",
        "\n",
        "df['sex'] = df['sex'].str.strip()\n",
        "\n",
        "df['marital.status'] = df['marital.status'].str.strip()\n",
        "\n",
        "df['income'] = df['income'].str.strip()\n",
        "\n",
        "# Шаг 1: Фильтруем только мужчин\n",
        "men = df[df['sex'] == 'Male']\n",
        "\n",
        "\n",
        "# Шаг 2: Разделяем мужчин на две группы: женатые и холостые\n",
        "# Женатые - marital-status начинается с \"Married\"\n",
        "married_men = men[men['marital.status'].str.startswith('Married')]\n",
        "\n",
        "# Холостые - все остальные\n",
        "single_men = men[~men['marital.status'].str.startswith('Married')]\n",
        "\n",
        "# Шаг 3: Вычисляем долю мужчин, зарабатывающих >50K, среди каждой группы\n",
        "\n",
        "# Доля зарабатывающих >50K среди женатых мужчин\n",
        "married_men_high_income_ratio = (married_men['income'] == '>50K').mean()\n",
        "\n",
        "# Доля зарабатывающих >50K среди холостых мужчин\n",
        "single_men_high_income_ratio = (single_men['income'] == '>50K').mean()\n",
        "\n",
        "# Шаг 4: Вывод результатов\n",
        "print(f\"Доля зарабатывающих >50K среди женатых мужчин: {married_men_high_income_ratio:.2%}\")\n",
        "print(f\"Доля зарабатывающих >50K среди холостых мужчин: {single_men_high_income_ratio:.2%}\")\n",
        "\n",
        "# Сравнение долей и вывод результата\n",
        "if married_men_high_income_ratio > single_men_high_income_ratio:\n",
        "    print(\"Женатые мужчины имеют большую долю зарабатывающих >50K.\")\n",
        "elif married_men_high_income_ratio < single_men_high_income_ratio:\n",
        "    print(\"Холостые мужчины имеют большую долю зарабатывающих >50K.\")\n",
        "else:\n",
        "    print(\"Доли зарабатывающих >50K одинаковы среди женатых и холостых мужчин.\")"
      ]
    },
    {
      "cell_type": "markdown",
      "metadata": {
        "id": "FK9lD8Di4OTD"
      },
      "source": [
        "12) Посчитайте среднее время работы (hours-per-week) зарабатывающих мало и много (salary) для каждой страны (native-country)."
      ]
    },
    {
      "cell_type": "code",
      "execution_count": null,
      "metadata": {
        "id": "Q507Bnc44OTD",
        "colab": {
          "base_uri": "https://localhost:8080/"
        },
        "outputId": "c3e636e8-eb35-4ba7-ebe2-4b4c81624d30"
      },
      "outputs": [
        {
          "output_type": "stream",
          "name": "stdout",
          "text": [
            "Среднее количество рабочих часов в неделю для каждой страны:\n",
            "                            avg_hours_low_salary  avg_hours_high_salary\n",
            "native.country                                                         \n",
            "?                                      40.164760              45.547945\n",
            "Cambodia                               41.416667              40.000000\n",
            "Canada                                 37.914634              45.641026\n",
            "China                                  37.381818              38.900000\n",
            "Columbia                               38.684211              50.000000\n",
            "Cuba                                   37.985714              42.440000\n",
            "Dominican-Republic                     42.338235              47.000000\n",
            "Ecuador                                38.041667              48.750000\n",
            "El-Salvador                            36.030928              45.000000\n",
            "England                                40.483333              44.533333\n",
            "France                                 41.058824              50.750000\n",
            "Germany                                39.139785              44.977273\n",
            "Greece                                 41.809524              50.625000\n",
            "Guatemala                              39.360656              36.666667\n",
            "Haiti                                  36.325000              42.750000\n",
            "Holand-Netherlands                     40.000000                    NaN\n",
            "Honduras                               34.333333              60.000000\n",
            "Hong                                   39.142857              45.000000\n",
            "Hungary                                31.300000              50.000000\n",
            "India                                  38.233333              46.475000\n",
            "Iran                                   41.440000              47.500000\n",
            "Ireland                                40.947368              48.000000\n",
            "Italy                                  39.625000              45.400000\n",
            "Jamaica                                38.239437              41.100000\n",
            "Japan                                  41.000000              47.958333\n",
            "Laos                                   40.375000              40.000000\n",
            "Mexico                                 40.003279              46.575758\n",
            "Nicaragua                              36.093750              37.500000\n",
            "Outlying-US(Guam-USVI-etc)             41.857143                    NaN\n",
            "Peru                                   35.068966              40.000000\n",
            "Philippines                            38.065693              43.032787\n",
            "Poland                                 38.166667              39.000000\n",
            "Portugal                               41.939394              41.500000\n",
            "Puerto-Rico                            38.470588              39.416667\n",
            "Scotland                               39.444444              46.666667\n",
            "South                                  40.156250              51.437500\n",
            "Taiwan                                 33.774194              46.800000\n",
            "Thailand                               42.866667              58.333333\n",
            "Trinadad&Tobago                        37.058824              40.000000\n",
            "United-States                          38.799127              45.505369\n",
            "Vietnam                                37.193548              39.200000\n",
            "Yugoslavia                             41.600000              49.500000\n"
          ]
        }
      ],
      "source": [
        "import pandas as pd\n",
        "import numpy as np\n",
        "import matplotlib.pyplot as plt\n",
        "\n",
        "columns='age,workclass,fnlwgt,education,education.num,marital.status,occupation,relationship,race,sex,capital.gain,capital.loss,hours.per.week,native.country,income'.split(',')\n",
        "url = 'https://archive.ics.uci.edu/ml/machine-learning-databases/adult/adult.data'\n",
        "df = pd.read_csv(url, na_values='?', names=columns)\n",
        "\n",
        "\n",
        "df.head()\n",
        "\n",
        "df['income'] = df['income'].str.strip()\n",
        "\n",
        "# Шаг 1: Разделение данных на две группы: зарабатывающие <=50K и зарабатывающие >50K\n",
        "# Те, кто зарабатывает <=50K\n",
        "low_salary = df[df['income'] == '<=50K']\n",
        "\n",
        "# Те, кто зарабатывает >50K\n",
        "high_salary = df[df['income'] == '>50K']\n",
        "\n",
        "# Шаг 2: Группировка по странам и расчет среднего количества рабочих часов для каждой группы\n",
        "\n",
        "# Среднее количество рабочих часов для тех, кто зарабатывает <=50K\n",
        "avg_hours_low_salary = low_salary.groupby('native.country')['hours.per.week'].mean()\n",
        "\n",
        "# Среднее количество рабочих часов для тех, кто зарабатывает >50K\n",
        "avg_hours_high_salary = high_salary.groupby('native.country')['hours.per.week'].mean()\n",
        "\n",
        "# Шаг 3: Объединение данных в одну таблицу для удобства сравнения\n",
        "result = pd.DataFrame({\n",
        "    'avg_hours_low_salary': avg_hours_low_salary,\n",
        "    'avg_hours_high_salary': avg_hours_high_salary\n",
        "})\n",
        "\n",
        "# Шаг 4: Вывод результата\n",
        "print(\"Среднее количество рабочих часов в неделю для каждой страны:\")\n",
        "print(result)"
      ]
    },
    {
      "cell_type": "markdown",
      "metadata": {
        "id": "BM0ZwdNm4OTD"
      },
      "source": [
        "13) Постройте сводную таблицу для сравнения уровня образования и разницы между capital.gain и capital.loss (то есть пассивный доход). Сделайте так, чтобы capital.gain - capital.loss создали не больше 10 разных уникальных значений. То есть, gain и loss - это числа в каком-то диапазоне. Это количественные признаки из вещественных чисел. С помощью математических функций, типа log, извлечение корня N-ой степени и округления можно перейти к категориальным признакам."
      ]
    },
    {
      "cell_type": "code",
      "execution_count": null,
      "metadata": {
        "id": "5hJh6CXX4OTD",
        "colab": {
          "base_uri": "https://localhost:8080/"
        },
        "outputId": "b4ca6d78-2af7-4329-eda6-400cf9bd9eb7"
      },
      "outputs": [
        {
          "output_type": "stream",
          "name": "stdout",
          "text": [
            "Сводная таблица для сравнения уровня образования и преобразованного пассивного дохода:\n",
            "passive_income_transformed  0.0   5.0   6.0   7.0   8.0   9.0   10.0  11.0  \\\n",
            "education                                                                    \n",
            "10th                         893     1     1     5    23     5     3     0   \n",
            "11th                        1122     0     5     6    21    17     4     0   \n",
            "12th                         411     0     3     3     8     5     3     0   \n",
            "1st-4th                      163     0     0     0     4     1     0     0   \n",
            "5th-6th                      319     0     0     2     7     5     0     0   \n",
            "7th-8th                      605     0     0     4    29     8     0     0   \n",
            "9th                          483     2     1     7    18     2     0     0   \n",
            "Assoc-acdm                   985     0     0     4    29    33    15     0   \n",
            "Assoc-voc                   1248     0     2     1    59    52    19     0   \n",
            "Bachelors                   4722     0     0    14   131   274   173     0   \n",
            "Doctorate                    337     0     1     0    10    20    33     0   \n",
            "HS-grad                     9818     2    10    32   331   217    68     0   \n",
            "Masters                     1449     0     0     6    43   112    94     1   \n",
            "Preschool                     49     0     0     0     1     0     0     1   \n",
            "Prof-school                  427     0     0     1    11    19    72     0   \n",
            "Some-college                6818     1    13    10   194   179    62     0   \n",
            "\n",
            "passive_income_transformed  12.0  \n",
            "education                         \n",
            "10th                           2  \n",
            "11th                           0  \n",
            "12th                           0  \n",
            "1st-4th                        0  \n",
            "5th-6th                        0  \n",
            "7th-8th                        0  \n",
            "9th                            1  \n",
            "Assoc-acdm                     1  \n",
            "Assoc-voc                      1  \n",
            "Bachelors                     41  \n",
            "Doctorate                     12  \n",
            "HS-grad                       23  \n",
            "Masters                       18  \n",
            "Preschool                      0  \n",
            "Prof-school                   46  \n",
            "Some-college                  14  \n"
          ]
        }
      ],
      "source": [
        "import pandas as pd\n",
        "import numpy as np\n",
        "import matplotlib.pyplot as plt\n",
        "\n",
        "# Загрузка данных\n",
        "columns = 'age,workclass,fnlwgt,education,education.num,marital.status,occupation,relationship,race,sex,capital.gain,capital.loss,hours.per.week,native.country,income'.split(',')\n",
        "url = 'https://archive.ics.uci.edu/ml/machine-learning-databases/adult/adult.data'\n",
        "df = pd.read_csv(url, na_values='?', names=columns)\n",
        "\n",
        "# Шаг 1: Создаем столбец для пассивного дохода как разницу между capital.gain и capital.loss\n",
        "df['passive_income'] = df['capital.gain'] - df['capital.loss']\n",
        "\n",
        "# Шаг 2: Обработка отрицательных значений (устанавливаем их на 0, чтобы избежать ошибок при применении логарифма)\n",
        "df['passive_income'] = df['passive_income'].apply(lambda x: x if x >= 0 else 0)\n",
        "\n",
        "# Шаг 3: Преобразуем количественный признак в категориальный\n",
        "# Применяем логарифм и округление для уменьшения количества уникальных значений\n",
        "df['passive_income_transformed'] = np.log1p(df['passive_income'])  # log(1 + passive_income)\n",
        "df['passive_income_transformed'] = np.round(df['passive_income_transformed'], 0)  # Округляем результат до целого\n",
        "\n",
        "# Шаг 4: Построение сводной таблицы для сравнения уровней образования и преобразованного пассивного дохода\n",
        "pivot_table = pd.pivot_table(df, values='passive_income', index='education', columns='passive_income_transformed', aggfunc='count', fill_value=0)\n",
        "\n",
        "# Шаг 5: Выводим сводную таблицу\n",
        "print(\"Сводная таблица для сравнения уровня образования и преобразованного пассивного дохода:\")\n",
        "print(pivot_table)\n",
        "\n"
      ]
    },
    {
      "cell_type": "markdown",
      "metadata": {
        "id": "lxq2kL_J4OTD"
      },
      "source": [
        "14) Женщины из каких стран получают в среднем большую зарплату (>50K) чаще."
      ]
    },
    {
      "cell_type": "code",
      "execution_count": null,
      "metadata": {
        "id": "40ZSyVi_4OTD",
        "colab": {
          "base_uri": "https://localhost:8080/"
        },
        "outputId": "cb629dc5-a767-4b43-af90-e24e1e633930"
      },
      "outputs": [
        {
          "output_type": "stream",
          "name": "stdout",
          "text": [
            "Женщины из каких стран получают в среднем большую зарплату (>50K) чаще:\n",
            "native.country\n",
            "Yugoslavia                    0.333333\n",
            "Taiwan                        0.266667\n",
            "Japan                         0.250000\n",
            "France                        0.250000\n",
            "Iran                          0.250000\n",
            "China                         0.238095\n",
            "Italy                         0.238095\n",
            "Canada                        0.230769\n",
            "Scotland                      0.200000\n",
            "Greece                        0.200000\n",
            "England                       0.187500\n",
            "India                         0.181818\n",
            "Hong                          0.166667\n",
            "Portugal                      0.166667\n",
            "Hungary                       0.166667\n",
            "Philippines                   0.164384\n",
            "Ireland                       0.142857\n",
            "Honduras                      0.142857\n",
            "Laos                          0.125000\n",
            "Germany                       0.116667\n",
            "United-States                 0.110721\n",
            "Poland                        0.105263\n",
            "?                             0.104294\n",
            "South                         0.100000\n",
            "Thailand                      0.090909\n",
            "Nicaragua                     0.083333\n",
            "Cuba                          0.075000\n",
            "Dominican-Republic            0.057143\n",
            "Haiti                         0.050000\n",
            "Vietnam                       0.043478\n",
            "Puerto-Rico                   0.038462\n",
            "El-Salvador                   0.028571\n",
            "Jamaica                       0.023256\n",
            "Mexico                        0.013699\n",
            "Guatemala                     0.000000\n",
            "Ecuador                       0.000000\n",
            "Holand-Netherlands            0.000000\n",
            "Columbia                      0.000000\n",
            "Outlying-US(Guam-USVI-etc)    0.000000\n",
            "Trinadad&Tobago               0.000000\n",
            "Cambodia                      0.000000\n",
            "Peru                          0.000000\n",
            "dtype: float64\n"
          ]
        }
      ],
      "source": [
        "import pandas as pd\n",
        "import numpy as np\n",
        "import matplotlib.pyplot as plt\n",
        "\n",
        "columns='age,workclass,fnlwgt,education,education.num,marital.status,occupation,relationship,race,sex,capital.gain,capital.loss,hours.per.week,native.country,income'.split(',')\n",
        "url = 'https://archive.ics.uci.edu/ml/machine-learning-databases/adult/adult.data'\n",
        "df = pd.read_csv(url, na_values='?', names=columns)\n",
        "\n",
        "df.head()\n",
        "\n",
        "df['sex'] = df['sex'].str.strip()\n",
        "\n",
        "df['income'] = df['income'].str.strip()\n",
        "\n",
        "df['native.country'] = df['native.country'].str.strip()\n",
        "\n",
        "\n",
        "# Шаг 1: Фильтруем только женщин\n",
        "women = df[df['sex'] == 'Female']\n",
        "\n",
        "# Шаг 2: Разделяем женщин на две группы по уровню дохода: больше 50K и меньше/равно 50K\n",
        "# Те, кто зарабатывает >50K\n",
        "high_income_women = women[women['income'] == '>50K']\n",
        "\n",
        "# Шаг 3: Подсчитываем общее количество женщин и количество женщин с зарплатой >50K для каждой страны\n",
        "total_women_by_country = women.groupby('native.country').size()  # Общее количество женщин по странам\n",
        "high_income_women_by_country = high_income_women.groupby('native.country').size()  # Женщины с зарплатой >50K по странам\n",
        "\n",
        "# Шаг 4: Рассчитываем долю женщин с зарплатой >50K по каждой стране\n",
        "# Для этого делим количество женщин с зарплатой >50K на общее количество женщин в каждой стране\n",
        "salary_ratio = (high_income_women_by_country / total_women_by_country).fillna(0)\n",
        "\n",
        "# Шаг 5: Сортируем страны по убыванию доли женщин с зарплатой >50K\n",
        "salary_ratio_sorted = salary_ratio.sort_values(ascending=False)\n",
        "\n",
        "# Шаг 6: Выводим результат\n",
        "print(\"Женщины из каких стран получают в среднем большую зарплату (>50K) чаще:\")\n",
        "print(salary_ratio_sorted)"
      ]
    },
    {
      "cell_type": "markdown",
      "metadata": {
        "id": "XxHLxPif4OTD"
      },
      "source": [
        "15) Создайте случайную колонку - magic_salary, которую нужно будет вычислить следующим образом: если зарплата небольшая (<50K), тогда случайно выберите число из диапазона [0,50]. Если зарплата выше 50K тогда из диапазона [51, 200]. Посчитайте среднюю зарплату в час для групп людей с одни уровнем образования на основе нашей случайной колонки magic_salary"
      ]
    },
    {
      "cell_type": "code",
      "source": [
        "import pandas as pd\n",
        "import numpy as np\n",
        "import matplotlib.pyplot as plt\n",
        "\n",
        "columns='age,workclass,fnlwgt,education,education.num,marital.status,occupation,relationship,race,sex,capital.gain,capital.loss,hours.per.week,native.country,income'.split(',')\n",
        "url = 'https://archive.ics.uci.edu/ml/machine-learning-databases/adult/adult.data'\n",
        "df = pd.read_csv(url, na_values='?', names=columns)\n",
        "\n",
        "df.head()\n",
        "\n",
        "df['income'] = df['income'].str.strip()\n",
        "\n",
        "# Шаг 1: Создание случайной колонки 'magic_salary'\n",
        "# Если зарплата <=50K, случайное число из диапазона [0, 50]\n",
        "# Если зарплата >50K, случайное число из диапазона [51, 200]\n",
        "df['magic_salary'] = df['income'].apply(lambda x: np.random.randint(0, 51) if x == '<=50K' else np.random.randint(51, 201))\n",
        "\n",
        "# Шаг 2: Рассчет средней зарплаты в час\n",
        "# Средняя зарплата в час = magic_salary / hours.per.week\n",
        "df['hourly_magic_salary'] = df['magic_salary'] / df['hours.per.week']\n",
        "\n",
        "# Шаг 3: Посчитаем среднюю зарплату в час для каждой группы по уровню образования\n",
        "average_hourly_salary_by_education = df.groupby('education')['hourly_magic_salary'].mean()\n",
        "\n",
        "# Шаг 4: Выводим результат\n",
        "print(\"Средняя зарплата в час на основе случайной колонки 'magic_salary' для каждого уровня образования:\")\n",
        "print(average_hourly_salary_by_education)"
      ],
      "metadata": {
        "colab": {
          "base_uri": "https://localhost:8080/"
        },
        "id": "rp1DCBY_PoxT",
        "outputId": "13baf96f-0f19-4d5b-8984-0209cb8d93a1"
      },
      "execution_count": null,
      "outputs": [
        {
          "output_type": "stream",
          "name": "stdout",
          "text": [
            "Средняя зарплата в час на основе случайной колонки 'magic_salary' для каждого уровня образования:\n",
            "education\n",
            "10th            1.081044\n",
            "11th            1.103403\n",
            "12th            0.979299\n",
            "1st-4th         0.825371\n",
            "5th-6th         0.900720\n",
            "7th-8th         0.980350\n",
            "9th             1.000518\n",
            "Assoc-acdm      1.505469\n",
            "Assoc-voc       1.336779\n",
            "Bachelors       1.678051\n",
            "Doctorate       2.679885\n",
            "HS-grad         1.106108\n",
            "Masters         2.205059\n",
            "Preschool       0.889714\n",
            "Prof-school     2.366009\n",
            "Some-college    1.248616\n",
            "Name: hourly_magic_salary, dtype: float64\n"
          ]
        }
      ]
    }
  ],
  "metadata": {
    "kernelspec": {
      "display_name": "Python 3 (ipykernel)",
      "language": "python",
      "name": "python3"
    },
    "language_info": {
      "codemirror_mode": {
        "name": "ipython",
        "version": 3
      },
      "file_extension": ".py",
      "mimetype": "text/x-python",
      "name": "python",
      "nbconvert_exporter": "python",
      "pygments_lexer": "ipython3",
      "version": "3.12.4"
    },
    "colab": {
      "provenance": []
    }
  },
  "nbformat": 4,
  "nbformat_minor": 0
}